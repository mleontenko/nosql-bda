{
 "cells": [
  {
   "cell_type": "markdown",
   "metadata": {},
   "source": [
    "# CTG dataset\n",
    "\n",
    "## Opis seta podataka:"
   ]
  },
  {
   "cell_type": "markdown",
   "metadata": {},
   "source": [
    "Set podataka sastoji se od 2126 mjerenja i klasifikacija fetusnih otkucaja srca (eng. FHR - foetal heart rate)."
   ]
  },
  {
   "cell_type": "markdown",
   "metadata": {},
   "source": [
    "Učitavanje python modula i podataka:"
   ]
  },
  {
   "cell_type": "code",
   "execution_count": 1,
   "metadata": {
    "scrolled": true
   },
   "outputs": [
    {
     "data": {
      "text/html": [
       "<div>\n",
       "<style scoped>\n",
       "    .dataframe tbody tr th:only-of-type {\n",
       "        vertical-align: middle;\n",
       "    }\n",
       "\n",
       "    .dataframe tbody tr th {\n",
       "        vertical-align: top;\n",
       "    }\n",
       "\n",
       "    .dataframe thead th {\n",
       "        text-align: right;\n",
       "    }\n",
       "</style>\n",
       "<table border=\"1\" class=\"dataframe\">\n",
       "  <thead>\n",
       "    <tr style=\"text-align: right;\">\n",
       "      <th></th>\n",
       "      <th>FileName</th>\n",
       "      <th>Date</th>\n",
       "      <th>SegFile</th>\n",
       "      <th>b</th>\n",
       "      <th>e</th>\n",
       "      <th>LBE</th>\n",
       "      <th>LB</th>\n",
       "      <th>AC</th>\n",
       "      <th>FM</th>\n",
       "      <th>UC</th>\n",
       "      <th>...</th>\n",
       "      <th>C</th>\n",
       "      <th>D</th>\n",
       "      <th>E</th>\n",
       "      <th>AD</th>\n",
       "      <th>DE</th>\n",
       "      <th>LD</th>\n",
       "      <th>FS</th>\n",
       "      <th>SUSP</th>\n",
       "      <th>CLASS</th>\n",
       "      <th>NSP</th>\n",
       "    </tr>\n",
       "  </thead>\n",
       "  <tbody>\n",
       "    <tr>\n",
       "      <td>0</td>\n",
       "      <td>Variab10.txt</td>\n",
       "      <td>35400</td>\n",
       "      <td>CTG0001.txt</td>\n",
       "      <td>240</td>\n",
       "      <td>357</td>\n",
       "      <td>120</td>\n",
       "      <td>120</td>\n",
       "      <td>0</td>\n",
       "      <td>0</td>\n",
       "      <td>0</td>\n",
       "      <td>...</td>\n",
       "      <td>0</td>\n",
       "      <td>0</td>\n",
       "      <td>0</td>\n",
       "      <td>0</td>\n",
       "      <td>0</td>\n",
       "      <td>0</td>\n",
       "      <td>1</td>\n",
       "      <td>0</td>\n",
       "      <td>9</td>\n",
       "      <td>2</td>\n",
       "    </tr>\n",
       "    <tr>\n",
       "      <td>1</td>\n",
       "      <td>Fmcs_1.txt</td>\n",
       "      <td>35188</td>\n",
       "      <td>CTG0002.txt</td>\n",
       "      <td>5</td>\n",
       "      <td>632</td>\n",
       "      <td>132</td>\n",
       "      <td>132</td>\n",
       "      <td>4</td>\n",
       "      <td>0</td>\n",
       "      <td>4</td>\n",
       "      <td>...</td>\n",
       "      <td>0</td>\n",
       "      <td>0</td>\n",
       "      <td>0</td>\n",
       "      <td>1</td>\n",
       "      <td>0</td>\n",
       "      <td>0</td>\n",
       "      <td>0</td>\n",
       "      <td>0</td>\n",
       "      <td>6</td>\n",
       "      <td>1</td>\n",
       "    </tr>\n",
       "    <tr>\n",
       "      <td>2</td>\n",
       "      <td>Fmcs_1.txt</td>\n",
       "      <td>35188</td>\n",
       "      <td>CTG0003.txt</td>\n",
       "      <td>177</td>\n",
       "      <td>779</td>\n",
       "      <td>133</td>\n",
       "      <td>133</td>\n",
       "      <td>2</td>\n",
       "      <td>0</td>\n",
       "      <td>5</td>\n",
       "      <td>...</td>\n",
       "      <td>0</td>\n",
       "      <td>0</td>\n",
       "      <td>0</td>\n",
       "      <td>1</td>\n",
       "      <td>0</td>\n",
       "      <td>0</td>\n",
       "      <td>0</td>\n",
       "      <td>0</td>\n",
       "      <td>6</td>\n",
       "      <td>1</td>\n",
       "    </tr>\n",
       "    <tr>\n",
       "      <td>3</td>\n",
       "      <td>Fmcs_1.txt</td>\n",
       "      <td>35188</td>\n",
       "      <td>CTG0004.txt</td>\n",
       "      <td>411</td>\n",
       "      <td>1192</td>\n",
       "      <td>134</td>\n",
       "      <td>134</td>\n",
       "      <td>2</td>\n",
       "      <td>0</td>\n",
       "      <td>6</td>\n",
       "      <td>...</td>\n",
       "      <td>0</td>\n",
       "      <td>0</td>\n",
       "      <td>0</td>\n",
       "      <td>1</td>\n",
       "      <td>0</td>\n",
       "      <td>0</td>\n",
       "      <td>0</td>\n",
       "      <td>0</td>\n",
       "      <td>6</td>\n",
       "      <td>1</td>\n",
       "    </tr>\n",
       "    <tr>\n",
       "      <td>4</td>\n",
       "      <td>Fmcs_1.txt</td>\n",
       "      <td>35188</td>\n",
       "      <td>CTG0005.txt</td>\n",
       "      <td>533</td>\n",
       "      <td>1147</td>\n",
       "      <td>132</td>\n",
       "      <td>132</td>\n",
       "      <td>4</td>\n",
       "      <td>0</td>\n",
       "      <td>5</td>\n",
       "      <td>...</td>\n",
       "      <td>0</td>\n",
       "      <td>0</td>\n",
       "      <td>0</td>\n",
       "      <td>0</td>\n",
       "      <td>0</td>\n",
       "      <td>0</td>\n",
       "      <td>0</td>\n",
       "      <td>0</td>\n",
       "      <td>2</td>\n",
       "      <td>1</td>\n",
       "    </tr>\n",
       "  </tbody>\n",
       "</table>\n",
       "<p>5 rows × 40 columns</p>\n",
       "</div>"
      ],
      "text/plain": [
       "       FileName   Date      SegFile    b     e  LBE   LB  AC  FM  UC  ...  C  \\\n",
       "0  Variab10.txt  35400  CTG0001.txt  240   357  120  120   0   0   0  ...  0   \n",
       "1    Fmcs_1.txt  35188  CTG0002.txt    5   632  132  132   4   0   4  ...  0   \n",
       "2    Fmcs_1.txt  35188  CTG0003.txt  177   779  133  133   2   0   5  ...  0   \n",
       "3    Fmcs_1.txt  35188  CTG0004.txt  411  1192  134  134   2   0   6  ...  0   \n",
       "4    Fmcs_1.txt  35188  CTG0005.txt  533  1147  132  132   4   0   5  ...  0   \n",
       "\n",
       "   D  E  AD  DE  LD  FS  SUSP  CLASS  NSP  \n",
       "0  0  0   0   0   0   1     0      9    2  \n",
       "1  0  0   1   0   0   0     0      6    1  \n",
       "2  0  0   1   0   0   0     0      6    1  \n",
       "3  0  0   1   0   0   0     0      6    1  \n",
       "4  0  0   0   0   0   0     0      2    1  \n",
       "\n",
       "[5 rows x 40 columns]"
      ]
     },
     "execution_count": 1,
     "metadata": {},
     "output_type": "execute_result"
    }
   ],
   "source": [
    "import numpy as np\n",
    "import pandas as pd\n",
    "from pandas import DataFrame\n",
    "import matplotlib.pyplot as plt\n",
    "import seaborn as sns\n",
    "\n",
    "%matplotlib inline\n",
    "\n",
    "plt.style.use('seaborn')\n",
    "\n",
    "path='CTG.csv'\n",
    "\n",
    "# CSV datoteka učitava se kao dataframe u df varijablu\n",
    "df = pd.read_csv(path, sep=',')\n",
    "\n",
    "df.head()"
   ]
  },
  {
   "cell_type": "code",
   "execution_count": 2,
   "metadata": {},
   "outputs": [
    {
     "name": "stdout",
     "output_type": "stream",
     "text": [
      "<class 'pandas.core.frame.DataFrame'>\n",
      "RangeIndex: 2126 entries, 0 to 2125\n",
      "Data columns (total 40 columns):\n",
      "FileName    2126 non-null object\n",
      "Date        2126 non-null int64\n",
      "SegFile     2126 non-null object\n",
      "b           2126 non-null int64\n",
      "e           2126 non-null int64\n",
      "LBE         2126 non-null int64\n",
      "LB          2126 non-null int64\n",
      "AC          2126 non-null int64\n",
      "FM          2126 non-null int64\n",
      "UC          2126 non-null int64\n",
      "ASTV        2126 non-null int64\n",
      "MSTV        2126 non-null float64\n",
      "ALTV        2126 non-null int64\n",
      "MLTV        2126 non-null float64\n",
      "DL          2126 non-null int64\n",
      "DS          2126 non-null int64\n",
      "DP          2126 non-null int64\n",
      "DR          2126 non-null int64\n",
      "Width       2126 non-null int64\n",
      "Min         2126 non-null int64\n",
      "Max         2126 non-null int64\n",
      "Nmax        2126 non-null int64\n",
      "Nzeros      2126 non-null int64\n",
      "Mode        2126 non-null int64\n",
      "Mean        2126 non-null int64\n",
      "Median      2126 non-null int64\n",
      "Variance    2126 non-null int64\n",
      "Tendency    2126 non-null int64\n",
      "A           2126 non-null int64\n",
      "B           2126 non-null int64\n",
      "C           2126 non-null int64\n",
      "D           2126 non-null int64\n",
      "E           2126 non-null int64\n",
      "AD          2126 non-null int64\n",
      "DE          2126 non-null int64\n",
      "LD          2126 non-null int64\n",
      "FS          2126 non-null int64\n",
      "SUSP        2126 non-null int64\n",
      "CLASS       2126 non-null int64\n",
      "NSP         2126 non-null int64\n",
      "dtypes: float64(2), int64(36), object(2)\n",
      "memory usage: 664.5+ KB\n"
     ]
    }
   ],
   "source": [
    "# Info o podatcima\n",
    "df.info()"
   ]
  },
  {
   "cell_type": "markdown",
   "metadata": {},
   "source": [
    "## 1. Kontrola kvalitete podataka"
   ]
  },
  {
   "cell_type": "markdown",
   "metadata": {},
   "source": [
    "Prepoznavanje nedostajućih vrijednosti:"
   ]
  },
  {
   "cell_type": "code",
   "execution_count": 3,
   "metadata": {},
   "outputs": [
    {
     "data": {
      "text/plain": [
       "Index([], dtype='object')"
      ]
     },
     "execution_count": 3,
     "metadata": {},
     "output_type": "execute_result"
    }
   ],
   "source": [
    "# Ova naredba daje popis stupaca s nedostajućim vrijednostima\n",
    "df.columns[df.isnull().any()]"
   ]
  },
  {
   "cell_type": "code",
   "execution_count": 4,
   "metadata": {},
   "outputs": [
    {
     "data": {
      "text/html": [
       "<div>\n",
       "<style scoped>\n",
       "    .dataframe tbody tr th:only-of-type {\n",
       "        vertical-align: middle;\n",
       "    }\n",
       "\n",
       "    .dataframe tbody tr th {\n",
       "        vertical-align: top;\n",
       "    }\n",
       "\n",
       "    .dataframe thead th {\n",
       "        text-align: right;\n",
       "    }\n",
       "</style>\n",
       "<table border=\"1\" class=\"dataframe\">\n",
       "  <thead>\n",
       "    <tr style=\"text-align: right;\">\n",
       "      <th></th>\n",
       "      <th>FileName</th>\n",
       "      <th>Date</th>\n",
       "      <th>SegFile</th>\n",
       "      <th>b</th>\n",
       "      <th>e</th>\n",
       "      <th>LBE</th>\n",
       "      <th>LB</th>\n",
       "      <th>AC</th>\n",
       "      <th>FM</th>\n",
       "      <th>UC</th>\n",
       "      <th>...</th>\n",
       "      <th>C</th>\n",
       "      <th>D</th>\n",
       "      <th>E</th>\n",
       "      <th>AD</th>\n",
       "      <th>DE</th>\n",
       "      <th>LD</th>\n",
       "      <th>FS</th>\n",
       "      <th>SUSP</th>\n",
       "      <th>CLASS</th>\n",
       "      <th>NSP</th>\n",
       "    </tr>\n",
       "  </thead>\n",
       "  <tbody>\n",
       "  </tbody>\n",
       "</table>\n",
       "<p>0 rows × 40 columns</p>\n",
       "</div>"
      ],
      "text/plain": [
       "Empty DataFrame\n",
       "Columns: [FileName, Date, SegFile, b, e, LBE, LB, AC, FM, UC, ASTV, MSTV, ALTV, MLTV, DL, DS, DP, DR, Width, Min, Max, Nmax, Nzeros, Mode, Mean, Median, Variance, Tendency, A, B, C, D, E, AD, DE, LD, FS, SUSP, CLASS, NSP]\n",
       "Index: []\n",
       "\n",
       "[0 rows x 40 columns]"
      ]
     },
     "execution_count": 4,
     "metadata": {},
     "output_type": "execute_result"
    }
   ],
   "source": [
    "# Iz ćelije iznad možemo vidjeti da nema nedostajućih vrijednosti u dataset-u\n",
    "# Naredba ispod za primjer ispisuje retke s nedostajućim vrijednostima u varijabli \"FileName\"\n",
    "df[df['FileName'].isnull()]"
   ]
  },
  {
   "cell_type": "code",
   "execution_count": 5,
   "metadata": {},
   "outputs": [
    {
     "data": {
      "text/plain": [
       "FileName     object\n",
       "Date          int64\n",
       "SegFile      object\n",
       "b             int64\n",
       "e             int64\n",
       "LBE           int64\n",
       "LB            int64\n",
       "AC            int64\n",
       "FM            int64\n",
       "UC            int64\n",
       "ASTV          int64\n",
       "MSTV        float64\n",
       "ALTV          int64\n",
       "MLTV        float64\n",
       "DL            int64\n",
       "DS            int64\n",
       "DP            int64\n",
       "DR            int64\n",
       "Width         int64\n",
       "Min           int64\n",
       "Max           int64\n",
       "Nmax          int64\n",
       "Nzeros        int64\n",
       "Mode          int64\n",
       "Mean          int64\n",
       "Median        int64\n",
       "Variance      int64\n",
       "Tendency      int64\n",
       "A             int64\n",
       "B             int64\n",
       "C             int64\n",
       "D             int64\n",
       "E             int64\n",
       "AD            int64\n",
       "DE            int64\n",
       "LD            int64\n",
       "FS            int64\n",
       "SUSP          int64\n",
       "CLASS         int64\n",
       "NSP           int64\n",
       "dtype: object"
      ]
     },
     "execution_count": 5,
     "metadata": {},
     "output_type": "execute_result"
    }
   ],
   "source": [
    "# Tipovi podataka po atributima u dataset-u\n",
    "# Atributi \"FileName\" i \"SegFile\" su \"object\" jer sadrže nazive datoteka s .txt ekstenzijom\n",
    "df.dtypes"
   ]
  },
  {
   "cell_type": "markdown",
   "metadata": {},
   "source": [
    "Ispod se nalazi popis kontinuiranih varijabli za koje možemo provjeriti distribuciju:"
   ]
  },
  {
   "cell_type": "code",
   "execution_count": 6,
   "metadata": {},
   "outputs": [],
   "source": [
    "continous = ['b', 'e', 'LBE', 'LB', 'AC', 'FM', 'UC', 'ASTV', 'MSTV', 'ALTV', 'MLTV', 'DL', 'DS', 'DP', 'DR', 'Width', 'Min', 'Max', 'Nmax', 'Nzeros', 'Mode', 'Mean', 'Median', 'Variance'];"
   ]
  },
  {
   "cell_type": "code",
   "execution_count": 7,
   "metadata": {},
   "outputs": [
    {
     "name": "stderr",
     "output_type": "stream",
     "text": [
      "C:\\Users\\marin\\AppData\\Local\\Continuum\\anaconda3\\lib\\site-packages\\ipykernel_launcher.py:3: RuntimeWarning: More than 20 figures have been opened. Figures created through the pyplot interface (`matplotlib.pyplot.figure`) are retained until explicitly closed and may consume too much memory. (To control this warning, see the rcParam `figure.max_open_warning`).\n",
      "  This is separate from the ipykernel package so we can avoid doing imports until\n",
      "C:\\Users\\marin\\AppData\\Local\\Continuum\\anaconda3\\lib\\site-packages\\pandas\\plotting\\_matplotlib\\tools.py:188: RuntimeWarning: More than 20 figures have been opened. Figures created through the pyplot interface (`matplotlib.pyplot.figure`) are retained until explicitly closed and may consume too much memory. (To control this warning, see the rcParam `figure.max_open_warning`).\n",
      "  fig = plt.figure(**fig_kw)\n"
     ]
    },
    {
     "data": {
      "text/plain": [
       "<Figure size 432x288 with 0 Axes>"
      ]
     },
     "metadata": {},
     "output_type": "display_data"
    },
    {
     "data": {
      "image/png": "[encoded data removed]",
      "text/plain": [
       "<Figure size 432x288 with 1 Axes>"
      ]
     },
     "metadata": {
      "needs_background": "light"
     },
     "output_type": "display_data"
    },
    {
     "data": {
      "text/plain": [
       "<Figure size 432x288 with 0 Axes>"
      ]
     },
     "metadata": {},
     "output_type": "display_data"
    },
    {
     "data": {
      "image/png": "[encoded data removed]",
      "text/plain": [
       "<Figure size 432x288 with 1 Axes>"
      ]
     },
     "metadata": {
      "needs_background": "light"
     },
     "output_type": "display_data"
    },
    {
     "data": {
      "text/plain": [
       "<Figure size 432x288 with 0 Axes>"
      ]
     },
     "metadata": {},
     "output_type": "display_data"
    },
    {
     "data": {
      "image/png": "[encoded data removed]",
      "text/plain": [
       "<Figure size 432x288 with 1 Axes>"
      ]
     },
     "metadata": {
      "needs_background": "light"
     },
     "output_type": "display_data"
    },
    {
     "data": {
      "text/plain": [
       "<Figure size 432x288 with 0 Axes>"
      ]
     },
     "metadata": {},
     "output_type": "display_data"
    },
    {
     "data": {
      "image/png": "[encoded data removed]",
      "text/plain": [
       "<Figure size 432x288 with 1 Axes>"
      ]
     },
     "metadata": {
      "needs_background": "light"
     },
     "output_type": "display_data"
    },
    {
     "data": {
      "text/plain": [
       "<Figure size 432x288 with 0 Axes>"
      ]
     },
     "metadata": {},
     "output_type": "display_data"
    },
    {
     "data": {
      "image/png": "[encoded data removed]",
      "text/plain": [
       "<Figure size 432x288 with 1 Axes>"
      ]
     },
     "metadata": {
      "needs_background": "light"
     },
     "output_type": "display_data"
    },
    {
     "data": {
      "text/plain": [
       "<Figure size 432x288 with 0 Axes>"
      ]
     },
     "metadata": {},
     "output_type": "display_data"
    },
    {
     "data": {
      "image/png": "[encoded data removed]",
      "text/plain": [
       "<Figure size 432x288 with 1 Axes>"
      ]
     },
     "metadata": {
      "needs_background": "light"
     },
     "output_type": "display_data"
    },
    {
     "data": {
      "text/plain": [
       "<Figure size 432x288 with 0 Axes>"
      ]
     },
     "metadata": {},
     "output_type": "display_data"
    },
    {
     "data": {
      "image/png": "[encoded data removed]",
      "text/plain": [
       "<Figure size 432x288 with 1 Axes>"
      ]
     },
     "metadata": {
      "needs_background": "light"
     },
     "output_type": "display_data"
    },
    {
     "data": {
      "text/plain": [
       "<Figure size 432x288 with 0 Axes>"
      ]
     },
     "metadata": {},
     "output_type": "display_data"
    },
    {
     "data": {
      "image/png": "[encoded data removed]",
      "text/plain": [
       "<Figure size 432x288 with 1 Axes>"
      ]
     },
     "metadata": {
      "needs_background": "light"
     },
     "output_type": "display_data"
    },
    {
     "data": {
      "text/plain": [
       "<Figure size 432x288 with 0 Axes>"
      ]
     },
     "metadata": {},
     "output_type": "display_data"
    },
    {
     "data": {
      "image/png": "[encoded data removed]",
      "text/plain": [
       "<Figure size 432x288 with 1 Axes>"
      ]
     },
     "metadata": {
      "needs_background": "light"
     },
     "output_type": "display_data"
    },
    {
     "data": {
      "text/plain": [
       "<Figure size 432x288 with 0 Axes>"
      ]
     },
     "metadata": {},
     "output_type": "display_data"
    },
    {
     "data": {
      "image/png": "[encoded data removed]",
      "text/plain": [
       "<Figure size 432x288 with 1 Axes>"
      ]
     },
     "metadata": {
      "needs_background": "light"
     },
     "output_type": "display_data"
    },
    {
     "data": {
      "text/plain": [
       "<Figure size 432x288 with 0 Axes>"
      ]
     },
     "metadata": {},
     "output_type": "display_data"
    },
    {
     "data": {
      "image/png": "[encoded data removed]",
      "text/plain": [
       "<Figure size 432x288 with 1 Axes>"
      ]
     },
     "metadata": {
      "needs_background": "light"
     },
     "output_type": "display_data"
    },
    {
     "data": {
      "text/plain": [
       "<Figure size 432x288 with 0 Axes>"
      ]
     },
     "metadata": {},
     "output_type": "display_data"
    },
    {
     "data": {
      "image/png": "[encoded data removed]",
      "text/plain": [
       "<Figure size 432x288 with 1 Axes>"
      ]
     },
     "metadata": {
      "needs_background": "light"
     },
     "output_type": "display_data"
    },
    {
     "data": {
      "text/plain": [
       "<Figure size 432x288 with 0 Axes>"
      ]
     },
     "metadata": {},
     "output_type": "display_data"
    },
    {
     "data": {
      "image/png": "[encoded data removed]",
      "text/plain": [
       "<Figure size 432x288 with 1 Axes>"
      ]
     },
     "metadata": {
      "needs_background": "light"
     },
     "output_type": "display_data"
    },
    {
     "data": {
      "text/plain": [
       "<Figure size 432x288 with 0 Axes>"
      ]
     },
     "metadata": {},
     "output_type": "display_data"
    },
    {
     "data": {
      "image/png": "[encoded data removed]",
      "text/plain": [
       "<Figure size 432x288 with 1 Axes>"
      ]
     },
     "metadata": {
      "needs_background": "light"
     },
     "output_type": "display_data"
    },
    {
     "data": {
      "text/plain": [
       "<Figure size 432x288 with 0 Axes>"
      ]
     },
     "metadata": {},
     "output_type": "display_data"
    },
    {
     "data": {
      "image/png": "[encoded data removed]",
      "text/plain": [
       "<Figure size 432x288 with 1 Axes>"
      ]
     },
     "metadata": {
      "needs_background": "light"
     },
     "output_type": "display_data"
    },
    {
     "data": {
      "text/plain": [
       "<Figure size 432x288 with 0 Axes>"
      ]
     },
     "metadata": {},
     "output_type": "display_data"
    },
    {
     "data": {
      "image/png": "[encoded data removed]",
      "text/plain": [
       "<Figure size 432x288 with 1 Axes>"
      ]
     },
     "metadata": {
      "needs_background": "light"
     },
     "output_type": "display_data"
    },
    {
     "data": {
      "text/plain": [
       "<Figure size 432x288 with 0 Axes>"
      ]
     },
     "metadata": {},
     "output_type": "display_data"
    },
    {
     "data": {
      "image/png": "[encoded data removed]",
      "text/plain": [
       "<Figure size 432x288 with 1 Axes>"
      ]
     },
     "metadata": {
      "needs_background": "light"
     },
     "output_type": "display_data"
    },
    {
     "data": {
      "text/plain": [
       "<Figure size 432x288 with 0 Axes>"
      ]
     },
     "metadata": {},
     "output_type": "display_data"
    },
    {
     "data": {
      "image/png": "[encoded data removed]",
      "text/plain": [
       "<Figure size 432x288 with 1 Axes>"
      ]
     },
     "metadata": {
      "needs_background": "light"
     },
     "output_type": "display_data"
    },
    {
     "data": {
      "text/plain": [
       "<Figure size 432x288 with 0 Axes>"
      ]
     },
     "metadata": {},
     "output_type": "display_data"
    },
    {
     "data": {
      "image/png": "[encoded data removed]",
      "text/plain": [
       "<Figure size 432x288 with 1 Axes>"
      ]
     },
     "metadata": {
      "needs_background": "light"
     },
     "output_type": "display_data"
    },
    {
     "data": {
      "text/plain": [
       "<Figure size 432x288 with 0 Axes>"
      ]
     },
     "metadata": {},
     "output_type": "display_data"
    },
    {
     "data": {
      "image/png": "[encoded data removed]",
      "text/plain": [
       "<Figure size 432x288 with 1 Axes>"
      ]
     },
     "metadata": {
      "needs_background": "light"
     },
     "output_type": "display_data"
    },
    {
     "data": {
      "text/plain": [
       "<Figure size 432x288 with 0 Axes>"
      ]
     },
     "metadata": {},
     "output_type": "display_data"
    },
    {
     "data": {
      "image/png": "[encoded data removed]",
      "text/plain": [
       "<Figure size 432x288 with 1 Axes>"
      ]
     },
     "metadata": {
      "needs_background": "light"
     },
     "output_type": "display_data"
    },
    {
     "data": {
      "text/plain": [
       "<Figure size 432x288 with 0 Axes>"
      ]
     },
     "metadata": {},
     "output_type": "display_data"
    },
    {
     "data": {
      "image/png": "[encoded data removed]",
      "text/plain": [
       "<Figure size 432x288 with 1 Axes>"
      ]
     },
     "metadata": {
      "needs_background": "light"
     },
     "output_type": "display_data"
    },
    {
     "data": {
      "text/plain": [
       "<Figure size 432x288 with 0 Axes>"
      ]
     },
     "metadata": {},
     "output_type": "display_data"
    },
    {
     "data": {
      "image/png": "[encoded data removed]",
      "text/plain": [
       "<Figure size 432x288 with 1 Axes>"
      ]
     },
     "metadata": {
      "needs_background": "light"
     },
     "output_type": "display_data"
    },
    {
     "data": {
      "text/plain": [
       "<Figure size 432x288 with 0 Axes>"
      ]
     },
     "metadata": {},
     "output_type": "display_data"
    },
    {
     "data": {
      "image/png": "[encoded data removed]",
      "text/plain": [
       "<Figure size 432x288 with 1 Axes>"
      ]
     },
     "metadata": {
      "needs_background": "light"
     },
     "output_type": "display_data"
    }
   ],
   "source": [
    "# Plot s distribucijama - matplotlib\n",
    "for column in continous:\n",
    "    plt.figure()\n",
    "    df.hist([column])"
   ]
  },
  {
   "cell_type": "code",
   "execution_count": 8,
   "metadata": {},
   "outputs": [
    {
     "name": "stderr",
     "output_type": "stream",
     "text": [
      "C:\\Users\\marin\\AppData\\Local\\Continuum\\anaconda3\\lib\\site-packages\\statsmodels\\nonparametric\\kde.py:487: RuntimeWarning: invalid value encountered in true_divide\n",
      "  binned = fast_linbin(X, a, b, gridsize) / (delta * nobs)\n",
      "C:\\Users\\marin\\AppData\\Local\\Continuum\\anaconda3\\lib\\site-packages\\statsmodels\\nonparametric\\kdetools.py:34: RuntimeWarning: invalid value encountered in double_scalars\n",
      "  FAC1 = 2*(np.pi*bw/RANGE)**2\n",
      "C:\\Users\\marin\\AppData\\Local\\Continuum\\anaconda3\\lib\\site-packages\\ipykernel_launcher.py:3: RuntimeWarning: More than 20 figures have been opened. Figures created through the pyplot interface (`matplotlib.pyplot.figure`) are retained until explicitly closed and may consume too much memory. (To control this warning, see the rcParam `figure.max_open_warning`).\n",
      "  This is separate from the ipykernel package so we can avoid doing imports until\n"
     ]
    },
    {
     "data": {
      "image/png": "[encoded data removed]",
      "text/plain": [
       "<Figure size 432x288 with 1 Axes>"
      ]
     },
     "metadata": {
      "needs_background": "light"
     },
     "output_type": "display_data"
    },
    {
     "data": {
      "image/png": "[encoded data removed]",
      "text/plain": [
       "<Figure size 432x288 with 1 Axes>"
      ]
     },
     "metadata": {
      "needs_background": "light"
     },
     "output_type": "display_data"
    },
    {
     "data": {
      "image/png": "[encoded data removed]",
      "text/plain": [
       "<Figure size 432x288 with 1 Axes>"
      ]
     },
     "metadata": {
      "needs_background": "light"
     },
     "output_type": "display_data"
    },
    {
     "data": {
      "image/png": "[encoded data removed]",
      "text/plain": [
       "<Figure size 432x288 with 1 Axes>"
      ]
     },
     "metadata": {
      "needs_background": "light"
     },
     "output_type": "display_data"
    },
    {
     "data": {
      "image/png": "[encoded data removed]",
      "text/plain": [
       "<Figure size 432x288 with 1 Axes>"
      ]
     },
     "metadata": {
      "needs_background": "light"
     },
     "output_type": "display_data"
    },
    {
     "data": {
      "image/png": "[encoded data removed]",
      "text/plain": [
       "<Figure size 432x288 with 1 Axes>"
      ]
     },
     "metadata": {
      "needs_background": "light"
     },
     "output_type": "display_data"
    },
    {
     "data": {
      "image/png": "[encoded data removed]",
      "text/plain": [
       "<Figure size 432x288 with 1 Axes>"
      ]
     },
     "metadata": {
      "needs_background": "light"
     },
     "output_type": "display_data"
    },
    {
     "data": {
      "image/png": "[encoded data removed]",
      "text/plain": [
       "<Figure size 432x288 with 1 Axes>"
      ]
     },
     "metadata": {
      "needs_background": "light"
     },
     "output_type": "display_data"
    },
    {
     "data": {
      "image/png": "[encoded data removed]",
      "text/plain": [
       "<Figure size 432x288 with 1 Axes>"
      ]
     },
     "metadata": {
      "needs_background": "light"
     },
     "output_type": "display_data"
    },
    {
     "data": {
      "image/png": "[encoded data removed]",
      "text/plain": [
       "<Figure size 432x288 with 1 Axes>"
      ]
     },
     "metadata": {
      "needs_background": "light"
     },
     "output_type": "display_data"
    },
    {
     "data": {
      "image/png": "[encoded data removed]",
      "text/plain": [
       "<Figure size 432x288 with 1 Axes>"
      ]
     },
     "metadata": {
      "needs_background": "light"
     },
     "output_type": "display_data"
    },
    {
     "data": {
      "image/png": "[encoded data removed]",
      "text/plain": [
       "<Figure size 432x288 with 1 Axes>"
      ]
     },
     "metadata": {
      "needs_background": "light"
     },
     "output_type": "display_data"
    },
    {
     "data": {
      "image/png": "[encoded data removed]",
      "text/plain": [
       "<Figure size 432x288 with 1 Axes>"
      ]
     },
     "metadata": {
      "needs_background": "light"
     },
     "output_type": "display_data"
    },
    {
     "data": {
      "image/png": "[encoded data removed]",
      "text/plain": [
       "<Figure size 432x288 with 1 Axes>"
      ]
     },
     "metadata": {
      "needs_background": "light"
     },
     "output_type": "display_data"
    },
    {
     "data": {
      "image/png": "[encoded data removed]",
      "text/plain": [
       "<Figure size 432x288 with 1 Axes>"
      ]
     },
     "metadata": {
      "needs_background": "light"
     },
     "output_type": "display_data"
    },
    {
     "data": {
      "image/png": "[encoded data removed]",
      "text/plain": [
       "<Figure size 432x288 with 1 Axes>"
      ]
     },
     "metadata": {
      "needs_background": "light"
     },
     "output_type": "display_data"
    },
    {
     "data": {
      "image/png": "[encoded data removed]",
      "text/plain": [
       "<Figure size 432x288 with 1 Axes>"
      ]
     },
     "metadata": {
      "needs_background": "light"
     },
     "output_type": "display_data"
    },
    {
     "data": {
      "image/png": "[encoded data removed]",
      "text/plain": [
       "<Figure size 432x288 with 1 Axes>"
      ]
     },
     "metadata": {
      "needs_background": "light"
     },
     "output_type": "display_data"
    },
    {
     "data": {
      "image/png": "[encoded data removed]",
      "text/plain": [
       "<Figure size 432x288 with 1 Axes>"
      ]
     },
     "metadata": {
      "needs_background": "light"
     },
     "output_type": "display_data"
    },
    {
     "data": {
      "image/png": "[encoded data removed]",
      "text/plain": [
       "<Figure size 432x288 with 1 Axes>"
      ]
     },
     "metadata": {
      "needs_background": "light"
     },
     "output_type": "display_data"
    },
    {
     "data": {
      "image/png": "[encoded data removed]",
      "text/plain": [
       "<Figure size 432x288 with 1 Axes>"
      ]
     },
     "metadata": {
      "needs_background": "light"
     },
     "output_type": "display_data"
    },
    {
     "data": {
      "image/png": "[encoded data removed]",
      "text/plain": [
       "<Figure size 432x288 with 1 Axes>"
      ]
     },
     "metadata": {
      "needs_background": "light"
     },
     "output_type": "display_data"
    },
    {
     "data": {
      "image/png": "[encoded data removed]",
      "text/plain": [
       "<Figure size 432x288 with 1 Axes>"
      ]
     },
     "metadata": {
      "needs_background": "light"
     },
     "output_type": "display_data"
    },
    {
     "data": {
      "image/png": "[encoded data removed]",
      "text/plain": [
       "<Figure size 432x288 with 1 Axes>"
      ]
     },
     "metadata": {
      "needs_background": "light"
     },
     "output_type": "display_data"
    }
   ],
   "source": [
    "# Plot s distribucijama - seaborn\n",
    "for column in continous:\n",
    "    plt.figure()\n",
    "    sns.distplot(df[column])"
   ]
  },
  {
   "cell_type": "markdown",
   "metadata": {},
   "source": [
    "Iz grafova iznad možemo vidjeti da varijabla b ima pozitivno asimetričnu normalnu distribuciju, a razlog tome je što većina mjerenja počinje od nule pa je b u puno slučajeva 0. e je završna (end) isntanca i zavisi o varijabli b što objašnjava nelogičnu distribuciju za e.\n",
    "\n",
    "Varijabla AC predstavlja ubrzanja (rada srca) za što možemo pretpostaviti da nije nešto što se događa pri svakom mjerenju pa možemo zaključiti da ima smisla što je vrijednost AC najčešće 0 i distribucija je pozitivno asimetrična.\n",
    "\n",
    "FM predstavlja fetalne pokrete (enf. foetal movement) i za većinu mjerenja ima vrijednost 0 jer se također ne događa pri svakom mjerenju.\n",
    "\n",
    "Iz istih gore navedenih razloga, varijable UC, MSTV, ALTV, MLTC, DL, DS, DP i Nzeros imaju puno vrijednosti 0 jer mjere događaje koji se ne događaju tijekom svakog mjerenja što objašnjava također pozitivno asimetričnu distribuciju.\n",
    "\n",
    "DR ima vrijednost 0 za sva mjerenja jer mjeri broj događaja (Repetitive decelerations) koji se nije dogodio tijekom niti jednog od 2126 mjerenja pa ga možemo izbaciti iz analize."
   ]
  },
  {
   "cell_type": "markdown",
   "metadata": {},
   "source": [
    "Za ciljnu varijablu možemo odabrati \"NSP\" koja je zapravo klasifikacija s vrijednostima: Normal=1; Suspect=2; Pathologic=3\n",
    "\n",
    "1 - normalno stanje\n",
    "\n",
    "2 - stanje na koje se sumnja da je bolest\n",
    "\n",
    "3 - bolest"
   ]
  },
  {
   "cell_type": "code",
   "execution_count": 9,
   "metadata": {},
   "outputs": [
    {
     "data": {
      "text/plain": [
       "<matplotlib.axes._subplots.AxesSubplot at 0x183c1ea2988>"
      ]
     },
     "execution_count": 9,
     "metadata": {},
     "output_type": "execute_result"
    },
    {
     "data": {
      "image/png": "[encoded data removed]",
      "text/plain": [
       "<Figure size 432x288 with 1 Axes>"
      ]
     },
     "metadata": {
      "needs_background": "light"
     },
     "output_type": "display_data"
    }
   ],
   "source": [
    "# Frekvencijski prikaz vrijednosti ciljne varijable NSP\n",
    "sns.countplot(x=\"NSP\", data=df)"
   ]
  },
  {
   "cell_type": "markdown",
   "metadata": {},
   "source": [
    "## 2. Statističke analize uzorka podataka"
   ]
  },
  {
   "cell_type": "code",
   "execution_count": 10,
   "metadata": {},
   "outputs": [],
   "source": [
    "# Popis kategoričkih vrijednosti\n",
    "categoric = ['Tendency', 'A', 'B', 'C', 'D', 'E', 'AD', 'DE', 'LD', 'FS', 'SUSP', 'CLASS', 'NSP']"
   ]
  },
  {
   "cell_type": "code",
   "execution_count": 11,
   "metadata": {},
   "outputs": [
    {
     "data": {
      "image/png": "[encoded data removed]",
      "text/plain": [
       "<Figure size 432x288 with 1 Axes>"
      ]
     },
     "metadata": {
      "needs_background": "light"
     },
     "output_type": "display_data"
    },
    {
     "data": {
      "image/png": "[encoded data removed]",
      "text/plain": [
       "<Figure size 432x288 with 1 Axes>"
      ]
     },
     "metadata": {
      "needs_background": "light"
     },
     "output_type": "display_data"
    },
    {
     "data": {
      "image/png": "[encoded data removed]",
      "text/plain": [
       "<Figure size 432x288 with 1 Axes>"
      ]
     },
     "metadata": {
      "needs_background": "light"
     },
     "output_type": "display_data"
    },
    {
     "data": {
      "image/png": "[encoded data removed]",
      "text/plain": [
       "<Figure size 432x288 with 1 Axes>"
      ]
     },
     "metadata": {
      "needs_background": "light"
     },
     "output_type": "display_data"
    },
    {
     "data": {
      "image/png": "[encoded data removed]",
      "text/plain": [
       "<Figure size 432x288 with 1 Axes>"
      ]
     },
     "metadata": {
      "needs_background": "light"
     },
     "output_type": "display_data"
    },
    {
     "data": {
      "image/png": "[encoded data removed]",
      "text/plain": [
       "<Figure size 432x288 with 1 Axes>"
      ]
     },
     "metadata": {
      "needs_background": "light"
     },
     "output_type": "display_data"
    },
    {
     "data": {
      "image/png": "[encoded data removed]",
      "text/plain": [
       "<Figure size 432x288 with 1 Axes>"
      ]
     },
     "metadata": {
      "needs_background": "light"
     },
     "output_type": "display_data"
    },
    {
     "data": {
      "image/png": "[encoded data removed]",
      "text/plain": [
       "<Figure size 432x288 with 1 Axes>"
      ]
     },
     "metadata": {
      "needs_background": "light"
     },
     "output_type": "display_data"
    },
    {
     "data": {
      "image/png": "[encoded data removed]",
      "text/plain": [
       "<Figure size 432x288 with 1 Axes>"
      ]
     },
     "metadata": {
      "needs_background": "light"
     },
     "output_type": "display_data"
    },
    {
     "data": {
      "image/png": "[encoded data removed]",
      "text/plain": [
       "<Figure size 432x288 with 1 Axes>"
      ]
     },
     "metadata": {
      "needs_background": "light"
     },
     "output_type": "display_data"
    },
    {
     "data": {
      "image/png": "[encoded data removed]",
      "text/plain": [
       "<Figure size 432x288 with 1 Axes>"
      ]
     },
     "metadata": {
      "needs_background": "light"
     },
     "output_type": "display_data"
    },
    {
     "data": {
      "image/png": "[encoded data removed]",
      "text/plain": [
       "<Figure size 432x288 with 1 Axes>"
      ]
     },
     "metadata": {
      "needs_background": "light"
     },
     "output_type": "display_data"
    },
    {
     "data": {
      "image/png": "[encoded data removed]",
      "text/plain": [
       "<Figure size 432x288 with 1 Axes>"
      ]
     },
     "metadata": {
      "needs_background": "light"
     },
     "output_type": "display_data"
    }
   ],
   "source": [
    "# distribucija frekvencija za kategoričke varijable\n",
    "# Plot s frekvencijama - seaborn\n",
    "for column in categoric:\n",
    "    plt.figure()\n",
    "    sns.countplot(x=column, data=df, palette='viridis')"
   ]
  },
  {
   "cell_type": "code",
   "execution_count": 12,
   "metadata": {},
   "outputs": [
    {
     "data": {
      "text/plain": [
       "<matplotlib.axes._subplots.AxesSubplot at 0x183c1da8cc8>"
      ]
     },
     "execution_count": 12,
     "metadata": {},
     "output_type": "execute_result"
    },
    {
     "data": {
      "image/png": "[encoded data removed]",
      "text/plain": [
       "<Figure size 576x576 with 1 Axes>"
      ]
     },
     "metadata": {
      "needs_background": "light"
     },
     "output_type": "display_data"
    }
   ],
   "source": [
    "# \"Date\" se također može uzeti kao kategorička varijabla, ali zbog \n",
    "# različitosti distribucije od ostalih kategoričkih varijabli, prikazan je na y osi\n",
    "# iz grafa se vidi da je najviše mjerenja zabilježeno na datum označen kao 34752\n",
    "# u analizi nije koristan jer možemo pretpostaviti da je svako mjerenje izvršeno na zasebnoj jedinki, a tu datum ne igra ulogu u ovom slučaju\n",
    "plt.figure(figsize=(8,8))\n",
    "sns.countplot(y=\"Date\", data=df, palette='viridis')"
   ]
  },
  {
   "cell_type": "markdown",
   "metadata": {},
   "source": [
    "Računanje srednje vrijednosti:"
   ]
  },
  {
   "cell_type": "code",
   "execution_count": 13,
   "metadata": {},
   "outputs": [
    {
     "data": {
      "text/html": [
       "<div>\n",
       "<style scoped>\n",
       "    .dataframe tbody tr th:only-of-type {\n",
       "        vertical-align: middle;\n",
       "    }\n",
       "\n",
       "    .dataframe tbody tr th {\n",
       "        vertical-align: top;\n",
       "    }\n",
       "\n",
       "    .dataframe thead th {\n",
       "        text-align: right;\n",
       "    }\n",
       "</style>\n",
       "<table border=\"1\" class=\"dataframe\">\n",
       "  <thead>\n",
       "    <tr style=\"text-align: right;\">\n",
       "      <th></th>\n",
       "      <th>b</th>\n",
       "      <th>e</th>\n",
       "      <th>LBE</th>\n",
       "      <th>LB</th>\n",
       "      <th>AC</th>\n",
       "      <th>FM</th>\n",
       "      <th>UC</th>\n",
       "      <th>ASTV</th>\n",
       "      <th>MSTV</th>\n",
       "      <th>ALTV</th>\n",
       "      <th>...</th>\n",
       "      <th>DP</th>\n",
       "      <th>Width</th>\n",
       "      <th>Min</th>\n",
       "      <th>Max</th>\n",
       "      <th>Nmax</th>\n",
       "      <th>Nzeros</th>\n",
       "      <th>Mode</th>\n",
       "      <th>Mean</th>\n",
       "      <th>Median</th>\n",
       "      <th>Variance</th>\n",
       "    </tr>\n",
       "  </thead>\n",
       "  <tbody>\n",
       "    <tr>\n",
       "      <td>count</td>\n",
       "      <td>2126.000000</td>\n",
       "      <td>2126.000000</td>\n",
       "      <td>2126.000000</td>\n",
       "      <td>2126.000000</td>\n",
       "      <td>2126.000000</td>\n",
       "      <td>2126.000000</td>\n",
       "      <td>2126.000000</td>\n",
       "      <td>2126.000000</td>\n",
       "      <td>2126.000000</td>\n",
       "      <td>2126.00000</td>\n",
       "      <td>...</td>\n",
       "      <td>2126.000000</td>\n",
       "      <td>2126.000000</td>\n",
       "      <td>2126.000000</td>\n",
       "      <td>2126.000000</td>\n",
       "      <td>2126.000000</td>\n",
       "      <td>2126.000000</td>\n",
       "      <td>2126.000000</td>\n",
       "      <td>2126.000000</td>\n",
       "      <td>2126.000000</td>\n",
       "      <td>2126.000000</td>\n",
       "    </tr>\n",
       "    <tr>\n",
       "      <td>mean</td>\n",
       "      <td>878.439793</td>\n",
       "      <td>1702.877234</td>\n",
       "      <td>133.303857</td>\n",
       "      <td>133.303857</td>\n",
       "      <td>2.722484</td>\n",
       "      <td>7.241298</td>\n",
       "      <td>3.659925</td>\n",
       "      <td>46.990122</td>\n",
       "      <td>1.332785</td>\n",
       "      <td>9.84666</td>\n",
       "      <td>...</td>\n",
       "      <td>0.126058</td>\n",
       "      <td>70.445908</td>\n",
       "      <td>93.579492</td>\n",
       "      <td>164.025400</td>\n",
       "      <td>4.068203</td>\n",
       "      <td>0.323612</td>\n",
       "      <td>137.452023</td>\n",
       "      <td>134.610536</td>\n",
       "      <td>138.090310</td>\n",
       "      <td>18.808090</td>\n",
       "    </tr>\n",
       "    <tr>\n",
       "      <td>std</td>\n",
       "      <td>894.084748</td>\n",
       "      <td>930.919143</td>\n",
       "      <td>9.840844</td>\n",
       "      <td>9.840844</td>\n",
       "      <td>3.560850</td>\n",
       "      <td>37.125309</td>\n",
       "      <td>2.847094</td>\n",
       "      <td>17.192814</td>\n",
       "      <td>0.883241</td>\n",
       "      <td>18.39688</td>\n",
       "      <td>...</td>\n",
       "      <td>0.464361</td>\n",
       "      <td>38.955693</td>\n",
       "      <td>29.560212</td>\n",
       "      <td>17.944183</td>\n",
       "      <td>2.949386</td>\n",
       "      <td>0.706059</td>\n",
       "      <td>16.381289</td>\n",
       "      <td>15.593596</td>\n",
       "      <td>14.466589</td>\n",
       "      <td>28.977636</td>\n",
       "    </tr>\n",
       "    <tr>\n",
       "      <td>min</td>\n",
       "      <td>0.000000</td>\n",
       "      <td>287.000000</td>\n",
       "      <td>106.000000</td>\n",
       "      <td>106.000000</td>\n",
       "      <td>0.000000</td>\n",
       "      <td>0.000000</td>\n",
       "      <td>0.000000</td>\n",
       "      <td>12.000000</td>\n",
       "      <td>0.200000</td>\n",
       "      <td>0.00000</td>\n",
       "      <td>...</td>\n",
       "      <td>0.000000</td>\n",
       "      <td>3.000000</td>\n",
       "      <td>50.000000</td>\n",
       "      <td>122.000000</td>\n",
       "      <td>0.000000</td>\n",
       "      <td>0.000000</td>\n",
       "      <td>60.000000</td>\n",
       "      <td>73.000000</td>\n",
       "      <td>77.000000</td>\n",
       "      <td>0.000000</td>\n",
       "    </tr>\n",
       "    <tr>\n",
       "      <td>25%</td>\n",
       "      <td>55.000000</td>\n",
       "      <td>1009.000000</td>\n",
       "      <td>126.000000</td>\n",
       "      <td>126.000000</td>\n",
       "      <td>0.000000</td>\n",
       "      <td>0.000000</td>\n",
       "      <td>1.000000</td>\n",
       "      <td>32.000000</td>\n",
       "      <td>0.700000</td>\n",
       "      <td>0.00000</td>\n",
       "      <td>...</td>\n",
       "      <td>0.000000</td>\n",
       "      <td>37.000000</td>\n",
       "      <td>67.000000</td>\n",
       "      <td>152.000000</td>\n",
       "      <td>2.000000</td>\n",
       "      <td>0.000000</td>\n",
       "      <td>129.000000</td>\n",
       "      <td>125.000000</td>\n",
       "      <td>129.000000</td>\n",
       "      <td>2.000000</td>\n",
       "    </tr>\n",
       "    <tr>\n",
       "      <td>50%</td>\n",
       "      <td>538.000000</td>\n",
       "      <td>1241.000000</td>\n",
       "      <td>133.000000</td>\n",
       "      <td>133.000000</td>\n",
       "      <td>1.000000</td>\n",
       "      <td>0.000000</td>\n",
       "      <td>3.000000</td>\n",
       "      <td>49.000000</td>\n",
       "      <td>1.200000</td>\n",
       "      <td>0.00000</td>\n",
       "      <td>...</td>\n",
       "      <td>0.000000</td>\n",
       "      <td>67.500000</td>\n",
       "      <td>93.000000</td>\n",
       "      <td>162.000000</td>\n",
       "      <td>3.000000</td>\n",
       "      <td>0.000000</td>\n",
       "      <td>139.000000</td>\n",
       "      <td>136.000000</td>\n",
       "      <td>139.000000</td>\n",
       "      <td>7.000000</td>\n",
       "    </tr>\n",
       "    <tr>\n",
       "      <td>75%</td>\n",
       "      <td>1521.000000</td>\n",
       "      <td>2434.750000</td>\n",
       "      <td>140.000000</td>\n",
       "      <td>140.000000</td>\n",
       "      <td>4.000000</td>\n",
       "      <td>2.000000</td>\n",
       "      <td>5.000000</td>\n",
       "      <td>61.000000</td>\n",
       "      <td>1.700000</td>\n",
       "      <td>11.00000</td>\n",
       "      <td>...</td>\n",
       "      <td>0.000000</td>\n",
       "      <td>100.000000</td>\n",
       "      <td>120.000000</td>\n",
       "      <td>174.000000</td>\n",
       "      <td>6.000000</td>\n",
       "      <td>0.000000</td>\n",
       "      <td>148.000000</td>\n",
       "      <td>145.000000</td>\n",
       "      <td>148.000000</td>\n",
       "      <td>24.000000</td>\n",
       "    </tr>\n",
       "    <tr>\n",
       "      <td>max</td>\n",
       "      <td>3296.000000</td>\n",
       "      <td>3599.000000</td>\n",
       "      <td>160.000000</td>\n",
       "      <td>160.000000</td>\n",
       "      <td>26.000000</td>\n",
       "      <td>564.000000</td>\n",
       "      <td>23.000000</td>\n",
       "      <td>87.000000</td>\n",
       "      <td>7.000000</td>\n",
       "      <td>91.00000</td>\n",
       "      <td>...</td>\n",
       "      <td>4.000000</td>\n",
       "      <td>180.000000</td>\n",
       "      <td>159.000000</td>\n",
       "      <td>238.000000</td>\n",
       "      <td>18.000000</td>\n",
       "      <td>10.000000</td>\n",
       "      <td>187.000000</td>\n",
       "      <td>182.000000</td>\n",
       "      <td>186.000000</td>\n",
       "      <td>269.000000</td>\n",
       "    </tr>\n",
       "  </tbody>\n",
       "</table>\n",
       "<p>8 rows × 23 columns</p>\n",
       "</div>"
      ],
      "text/plain": [
       "                 b            e          LBE           LB           AC  \\\n",
       "count  2126.000000  2126.000000  2126.000000  2126.000000  2126.000000   \n",
       "mean    878.439793  1702.877234   133.303857   133.303857     2.722484   \n",
       "std     894.084748   930.919143     9.840844     9.840844     3.560850   \n",
       "min       0.000000   287.000000   106.000000   106.000000     0.000000   \n",
       "25%      55.000000  1009.000000   126.000000   126.000000     0.000000   \n",
       "50%     538.000000  1241.000000   133.000000   133.000000     1.000000   \n",
       "75%    1521.000000  2434.750000   140.000000   140.000000     4.000000   \n",
       "max    3296.000000  3599.000000   160.000000   160.000000    26.000000   \n",
       "\n",
       "                FM           UC         ASTV         MSTV        ALTV  ...  \\\n",
       "count  2126.000000  2126.000000  2126.000000  2126.000000  2126.00000  ...   \n",
       "mean      7.241298     3.659925    46.990122     1.332785     9.84666  ...   \n",
       "std      37.125309     2.847094    17.192814     0.883241    18.39688  ...   \n",
       "min       0.000000     0.000000    12.000000     0.200000     0.00000  ...   \n",
       "25%       0.000000     1.000000    32.000000     0.700000     0.00000  ...   \n",
       "50%       0.000000     3.000000    49.000000     1.200000     0.00000  ...   \n",
       "75%       2.000000     5.000000    61.000000     1.700000    11.00000  ...   \n",
       "max     564.000000    23.000000    87.000000     7.000000    91.00000  ...   \n",
       "\n",
       "                DP        Width          Min          Max         Nmax  \\\n",
       "count  2126.000000  2126.000000  2126.000000  2126.000000  2126.000000   \n",
       "mean      0.126058    70.445908    93.579492   164.025400     4.068203   \n",
       "std       0.464361    38.955693    29.560212    17.944183     2.949386   \n",
       "min       0.000000     3.000000    50.000000   122.000000     0.000000   \n",
       "25%       0.000000    37.000000    67.000000   152.000000     2.000000   \n",
       "50%       0.000000    67.500000    93.000000   162.000000     3.000000   \n",
       "75%       0.000000   100.000000   120.000000   174.000000     6.000000   \n",
       "max       4.000000   180.000000   159.000000   238.000000    18.000000   \n",
       "\n",
       "            Nzeros         Mode         Mean       Median     Variance  \n",
       "count  2126.000000  2126.000000  2126.000000  2126.000000  2126.000000  \n",
       "mean      0.323612   137.452023   134.610536   138.090310    18.808090  \n",
       "std       0.706059    16.381289    15.593596    14.466589    28.977636  \n",
       "min       0.000000    60.000000    73.000000    77.000000     0.000000  \n",
       "25%       0.000000   129.000000   125.000000   129.000000     2.000000  \n",
       "50%       0.000000   139.000000   136.000000   139.000000     7.000000  \n",
       "75%       0.000000   148.000000   145.000000   148.000000    24.000000  \n",
       "max      10.000000   187.000000   182.000000   186.000000   269.000000  \n",
       "\n",
       "[8 rows x 23 columns]"
      ]
     },
     "execution_count": 13,
     "metadata": {},
     "output_type": "execute_result"
    }
   ],
   "source": [
    "# izrada dataframe-a s isključivo kontinuiranim varijablama tj. brisanje kategoričkih vrijednosti iz kopije originalnog df-a\n",
    "\n",
    "# kopiranje originalnog dataframe-a\n",
    "contdf = df.copy()\n",
    "\n",
    "# brisanje kategoričkih vrijednosti\n",
    "todelete = ['FileName', 'SegFile', 'Date', 'Tendency', 'A', 'B', 'C', 'D', 'E', 'AD', 'DE', 'LD', 'FS', 'SUSP', 'CLASS', 'NSP', 'DR']\n",
    "\n",
    "for column in todelete:\n",
    "    del contdf[column]\n",
    "\n",
    "# prukaz deskriptivne statistike za sve kontinuirane varijable, sadrži srednju vrijednost i standardno odstupanje (mean i std)\n",
    "# uz to još prikazuje broj vrijednosti, minimum/maksimum i percentile\n",
    "statistics = contdf.describe()\n",
    "\n",
    "statistics"
   ]
  },
  {
   "cell_type": "code",
   "execution_count": 14,
   "metadata": {},
   "outputs": [
    {
     "data": {
      "text/html": [
       "<div>\n",
       "<style scoped>\n",
       "    .dataframe tbody tr th:only-of-type {\n",
       "        vertical-align: middle;\n",
       "    }\n",
       "\n",
       "    .dataframe tbody tr th {\n",
       "        vertical-align: top;\n",
       "    }\n",
       "\n",
       "    .dataframe thead th {\n",
       "        text-align: right;\n",
       "    }\n",
       "</style>\n",
       "<table border=\"1\" class=\"dataframe\">\n",
       "  <thead>\n",
       "    <tr style=\"text-align: right;\">\n",
       "      <th></th>\n",
       "      <th>b_zscore</th>\n",
       "      <th>e_zscore</th>\n",
       "      <th>LBE_zscore</th>\n",
       "      <th>LB_zscore</th>\n",
       "      <th>AC_zscore</th>\n",
       "      <th>FM_zscore</th>\n",
       "      <th>UC_zscore</th>\n",
       "      <th>ASTV_zscore</th>\n",
       "      <th>MSTV_zscore</th>\n",
       "      <th>ALTV_zscore</th>\n",
       "      <th>...</th>\n",
       "      <th>DP_zscore</th>\n",
       "      <th>Width_zscore</th>\n",
       "      <th>Min_zscore</th>\n",
       "      <th>Max_zscore</th>\n",
       "      <th>Nmax_zscore</th>\n",
       "      <th>Nzeros_zscore</th>\n",
       "      <th>Mode_zscore</th>\n",
       "      <th>Mean_zscore</th>\n",
       "      <th>Median_zscore</th>\n",
       "      <th>Variance_zscore</th>\n",
       "    </tr>\n",
       "  </thead>\n",
       "  <tbody>\n",
       "    <tr>\n",
       "      <td>0</td>\n",
       "      <td>-0.714239</td>\n",
       "      <td>-1.446091</td>\n",
       "      <td>-1.352220</td>\n",
       "      <td>-1.352220</td>\n",
       "      <td>-0.764740</td>\n",
       "      <td>-0.195096</td>\n",
       "      <td>-1.285798</td>\n",
       "      <td>1.513190</td>\n",
       "      <td>-0.943095</td>\n",
       "      <td>1.802542</td>\n",
       "      <td>...</td>\n",
       "      <td>-0.27153</td>\n",
       "      <td>-0.165507</td>\n",
       "      <td>-1.068562</td>\n",
       "      <td>-2.119592</td>\n",
       "      <td>-0.701397</td>\n",
       "      <td>-0.458444</td>\n",
       "      <td>-1.065614</td>\n",
       "      <td>0.153270</td>\n",
       "      <td>-1.181642</td>\n",
       "      <td>1.870569</td>\n",
       "    </tr>\n",
       "    <tr>\n",
       "      <td>1</td>\n",
       "      <td>-0.977139</td>\n",
       "      <td>-1.150615</td>\n",
       "      <td>-0.132526</td>\n",
       "      <td>-0.132526</td>\n",
       "      <td>0.358852</td>\n",
       "      <td>-0.195096</td>\n",
       "      <td>0.119475</td>\n",
       "      <td>-1.744751</td>\n",
       "      <td>0.868841</td>\n",
       "      <td>-0.535361</td>\n",
       "      <td>...</td>\n",
       "      <td>-0.27153</td>\n",
       "      <td>1.529124</td>\n",
       "      <td>-0.865539</td>\n",
       "      <td>1.893794</td>\n",
       "      <td>0.655137</td>\n",
       "      <td>0.958201</td>\n",
       "      <td>0.216638</td>\n",
       "      <td>0.089126</td>\n",
       "      <td>0.132038</td>\n",
       "      <td>-0.234998</td>\n",
       "    </tr>\n",
       "    <tr>\n",
       "      <td>2</td>\n",
       "      <td>-0.784718</td>\n",
       "      <td>-0.992669</td>\n",
       "      <td>-0.030884</td>\n",
       "      <td>-0.030884</td>\n",
       "      <td>-0.202944</td>\n",
       "      <td>-0.195096</td>\n",
       "      <td>0.470793</td>\n",
       "      <td>-1.802928</td>\n",
       "      <td>0.868841</td>\n",
       "      <td>-0.535361</td>\n",
       "      <td>...</td>\n",
       "      <td>-0.27153</td>\n",
       "      <td>1.529124</td>\n",
       "      <td>-0.865539</td>\n",
       "      <td>1.893794</td>\n",
       "      <td>0.316003</td>\n",
       "      <td>0.958201</td>\n",
       "      <td>0.216638</td>\n",
       "      <td>0.024982</td>\n",
       "      <td>-0.006244</td>\n",
       "      <td>-0.200481</td>\n",
       "    </tr>\n",
       "    <tr>\n",
       "      <td>3</td>\n",
       "      <td>-0.522937</td>\n",
       "      <td>-0.548917</td>\n",
       "      <td>0.070757</td>\n",
       "      <td>0.070757</td>\n",
       "      <td>-0.202944</td>\n",
       "      <td>-0.195096</td>\n",
       "      <td>0.822111</td>\n",
       "      <td>-1.802928</td>\n",
       "      <td>1.208579</td>\n",
       "      <td>-0.535361</td>\n",
       "      <td>...</td>\n",
       "      <td>-0.27153</td>\n",
       "      <td>1.195333</td>\n",
       "      <td>-1.373097</td>\n",
       "      <td>0.333033</td>\n",
       "      <td>2.350804</td>\n",
       "      <td>-0.458444</td>\n",
       "      <td>-0.027600</td>\n",
       "      <td>-0.039162</td>\n",
       "      <td>-0.075385</td>\n",
       "      <td>-0.200481</td>\n",
       "    </tr>\n",
       "    <tr>\n",
       "      <td>4</td>\n",
       "      <td>-0.386452</td>\n",
       "      <td>-0.597268</td>\n",
       "      <td>-0.132526</td>\n",
       "      <td>-0.132526</td>\n",
       "      <td>0.358852</td>\n",
       "      <td>-0.195096</td>\n",
       "      <td>0.470793</td>\n",
       "      <td>-1.802928</td>\n",
       "      <td>1.208579</td>\n",
       "      <td>-0.535361</td>\n",
       "      <td>...</td>\n",
       "      <td>-0.27153</td>\n",
       "      <td>1.195333</td>\n",
       "      <td>-1.373097</td>\n",
       "      <td>0.333033</td>\n",
       "      <td>1.672537</td>\n",
       "      <td>-0.458444</td>\n",
       "      <td>-0.027600</td>\n",
       "      <td>0.089126</td>\n",
       "      <td>-0.006244</td>\n",
       "      <td>-0.269516</td>\n",
       "    </tr>\n",
       "    <tr>\n",
       "      <td>...</td>\n",
       "      <td>...</td>\n",
       "      <td>...</td>\n",
       "      <td>...</td>\n",
       "      <td>...</td>\n",
       "      <td>...</td>\n",
       "      <td>...</td>\n",
       "      <td>...</td>\n",
       "      <td>...</td>\n",
       "      <td>...</td>\n",
       "      <td>...</td>\n",
       "      <td>...</td>\n",
       "      <td>...</td>\n",
       "      <td>...</td>\n",
       "      <td>...</td>\n",
       "      <td>...</td>\n",
       "      <td>...</td>\n",
       "      <td>...</td>\n",
       "      <td>...</td>\n",
       "      <td>...</td>\n",
       "      <td>...</td>\n",
       "      <td>...</td>\n",
       "    </tr>\n",
       "    <tr>\n",
       "      <td>2121</td>\n",
       "      <td>1.320723</td>\n",
       "      <td>1.250803</td>\n",
       "      <td>0.680604</td>\n",
       "      <td>0.680604</td>\n",
       "      <td>-0.764740</td>\n",
       "      <td>-0.195096</td>\n",
       "      <td>0.822111</td>\n",
       "      <td>1.862255</td>\n",
       "      <td>-1.282833</td>\n",
       "      <td>0.823885</td>\n",
       "      <td>...</td>\n",
       "      <td>-0.27153</td>\n",
       "      <td>-0.781736</td>\n",
       "      <td>1.469229</td>\n",
       "      <td>0.723223</td>\n",
       "      <td>-0.023130</td>\n",
       "      <td>-0.458444</td>\n",
       "      <td>0.949354</td>\n",
       "      <td>0.987141</td>\n",
       "      <td>0.961731</td>\n",
       "      <td>-0.580173</td>\n",
       "    </tr>\n",
       "    <tr>\n",
       "      <td>2122</td>\n",
       "      <td>0.780378</td>\n",
       "      <td>1.250803</td>\n",
       "      <td>0.680604</td>\n",
       "      <td>0.680604</td>\n",
       "      <td>-0.483842</td>\n",
       "      <td>-0.195096</td>\n",
       "      <td>1.876065</td>\n",
       "      <td>1.804078</td>\n",
       "      <td>-1.056341</td>\n",
       "      <td>0.660775</td>\n",
       "      <td>...</td>\n",
       "      <td>-0.27153</td>\n",
       "      <td>-0.114154</td>\n",
       "      <td>0.318764</td>\n",
       "      <td>0.277292</td>\n",
       "      <td>0.655137</td>\n",
       "      <td>-0.458444</td>\n",
       "      <td>0.888294</td>\n",
       "      <td>0.858853</td>\n",
       "      <td>0.892590</td>\n",
       "      <td>-0.545656</td>\n",
       "    </tr>\n",
       "    <tr>\n",
       "      <td>2123</td>\n",
       "      <td>0.780378</td>\n",
       "      <td>0.959625</td>\n",
       "      <td>0.680604</td>\n",
       "      <td>0.680604</td>\n",
       "      <td>-0.483842</td>\n",
       "      <td>-0.195096</td>\n",
       "      <td>1.173429</td>\n",
       "      <td>1.862255</td>\n",
       "      <td>-1.056341</td>\n",
       "      <td>0.552035</td>\n",
       "      <td>...</td>\n",
       "      <td>-0.27153</td>\n",
       "      <td>-0.088478</td>\n",
       "      <td>0.318764</td>\n",
       "      <td>0.333033</td>\n",
       "      <td>0.316003</td>\n",
       "      <td>-0.458444</td>\n",
       "      <td>0.949354</td>\n",
       "      <td>0.858853</td>\n",
       "      <td>0.961731</td>\n",
       "      <td>-0.511138</td>\n",
       "    </tr>\n",
       "    <tr>\n",
       "      <td>2124</td>\n",
       "      <td>0.780378</td>\n",
       "      <td>1.446355</td>\n",
       "      <td>0.680604</td>\n",
       "      <td>0.680604</td>\n",
       "      <td>-0.483842</td>\n",
       "      <td>-0.195096</td>\n",
       "      <td>1.876065</td>\n",
       "      <td>1.804078</td>\n",
       "      <td>-1.056341</td>\n",
       "      <td>0.932624</td>\n",
       "      <td>...</td>\n",
       "      <td>-0.27153</td>\n",
       "      <td>-0.114154</td>\n",
       "      <td>0.318764</td>\n",
       "      <td>0.277292</td>\n",
       "      <td>0.655137</td>\n",
       "      <td>-0.458444</td>\n",
       "      <td>0.888294</td>\n",
       "      <td>0.794709</td>\n",
       "      <td>0.892590</td>\n",
       "      <td>-0.511138</td>\n",
       "    </tr>\n",
       "    <tr>\n",
       "      <td>2125</td>\n",
       "      <td>2.145223</td>\n",
       "      <td>1.839607</td>\n",
       "      <td>0.883886</td>\n",
       "      <td>0.883886</td>\n",
       "      <td>-0.483842</td>\n",
       "      <td>-0.168154</td>\n",
       "      <td>0.470793</td>\n",
       "      <td>1.571368</td>\n",
       "      <td>-1.056341</td>\n",
       "      <td>1.421953</td>\n",
       "      <td>...</td>\n",
       "      <td>-0.27153</td>\n",
       "      <td>-0.730384</td>\n",
       "      <td>0.792485</td>\n",
       "      <td>-0.280123</td>\n",
       "      <td>-0.701397</td>\n",
       "      <td>0.958201</td>\n",
       "      <td>0.460877</td>\n",
       "      <td>0.538134</td>\n",
       "      <td>0.477743</td>\n",
       "      <td>-0.614691</td>\n",
       "    </tr>\n",
       "  </tbody>\n",
       "</table>\n",
       "<p>2126 rows × 23 columns</p>\n",
       "</div>"
      ],
      "text/plain": [
       "      b_zscore  e_zscore  LBE_zscore  LB_zscore  AC_zscore  FM_zscore  \\\n",
       "0    -0.714239 -1.446091   -1.352220  -1.352220  -0.764740  -0.195096   \n",
       "1    -0.977139 -1.150615   -0.132526  -0.132526   0.358852  -0.195096   \n",
       "2    -0.784718 -0.992669   -0.030884  -0.030884  -0.202944  -0.195096   \n",
       "3    -0.522937 -0.548917    0.070757   0.070757  -0.202944  -0.195096   \n",
       "4    -0.386452 -0.597268   -0.132526  -0.132526   0.358852  -0.195096   \n",
       "...        ...       ...         ...        ...        ...        ...   \n",
       "2121  1.320723  1.250803    0.680604   0.680604  -0.764740  -0.195096   \n",
       "2122  0.780378  1.250803    0.680604   0.680604  -0.483842  -0.195096   \n",
       "2123  0.780378  0.959625    0.680604   0.680604  -0.483842  -0.195096   \n",
       "2124  0.780378  1.446355    0.680604   0.680604  -0.483842  -0.195096   \n",
       "2125  2.145223  1.839607    0.883886   0.883886  -0.483842  -0.168154   \n",
       "\n",
       "      UC_zscore  ASTV_zscore  MSTV_zscore  ALTV_zscore  ...  DP_zscore  \\\n",
       "0     -1.285798     1.513190    -0.943095     1.802542  ...   -0.27153   \n",
       "1      0.119475    -1.744751     0.868841    -0.535361  ...   -0.27153   \n",
       "2      0.470793    -1.802928     0.868841    -0.535361  ...   -0.27153   \n",
       "3      0.822111    -1.802928     1.208579    -0.535361  ...   -0.27153   \n",
       "4      0.470793    -1.802928     1.208579    -0.535361  ...   -0.27153   \n",
       "...         ...          ...          ...          ...  ...        ...   \n",
       "2121   0.822111     1.862255    -1.282833     0.823885  ...   -0.27153   \n",
       "2122   1.876065     1.804078    -1.056341     0.660775  ...   -0.27153   \n",
       "2123   1.173429     1.862255    -1.056341     0.552035  ...   -0.27153   \n",
       "2124   1.876065     1.804078    -1.056341     0.932624  ...   -0.27153   \n",
       "2125   0.470793     1.571368    -1.056341     1.421953  ...   -0.27153   \n",
       "\n",
       "      Width_zscore  Min_zscore  Max_zscore  Nmax_zscore  Nzeros_zscore  \\\n",
       "0        -0.165507   -1.068562   -2.119592    -0.701397      -0.458444   \n",
       "1         1.529124   -0.865539    1.893794     0.655137       0.958201   \n",
       "2         1.529124   -0.865539    1.893794     0.316003       0.958201   \n",
       "3         1.195333   -1.373097    0.333033     2.350804      -0.458444   \n",
       "4         1.195333   -1.373097    0.333033     1.672537      -0.458444   \n",
       "...            ...         ...         ...          ...            ...   \n",
       "2121     -0.781736    1.469229    0.723223    -0.023130      -0.458444   \n",
       "2122     -0.114154    0.318764    0.277292     0.655137      -0.458444   \n",
       "2123     -0.088478    0.318764    0.333033     0.316003      -0.458444   \n",
       "2124     -0.114154    0.318764    0.277292     0.655137      -0.458444   \n",
       "2125     -0.730384    0.792485   -0.280123    -0.701397       0.958201   \n",
       "\n",
       "      Mode_zscore  Mean_zscore  Median_zscore  Variance_zscore  \n",
       "0       -1.065614     0.153270      -1.181642         1.870569  \n",
       "1        0.216638     0.089126       0.132038        -0.234998  \n",
       "2        0.216638     0.024982      -0.006244        -0.200481  \n",
       "3       -0.027600    -0.039162      -0.075385        -0.200481  \n",
       "4       -0.027600     0.089126      -0.006244        -0.269516  \n",
       "...           ...          ...            ...              ...  \n",
       "2121     0.949354     0.987141       0.961731        -0.580173  \n",
       "2122     0.888294     0.858853       0.892590        -0.545656  \n",
       "2123     0.949354     0.858853       0.961731        -0.511138  \n",
       "2124     0.888294     0.794709       0.892590        -0.511138  \n",
       "2125     0.460877     0.538134       0.477743        -0.614691  \n",
       "\n",
       "[2126 rows x 23 columns]"
      ]
     },
     "execution_count": 14,
     "metadata": {},
     "output_type": "execute_result"
    }
   ],
   "source": [
    "# računanje z vrijednosti\n",
    "\n",
    "zdata = contdf.copy()\n",
    "\n",
    "for col in zdata:\n",
    "    col_zscore = col + '_zscore'\n",
    "    zdata[col_zscore] = (zdata[col] - zdata[col].mean())/zdata[col].std(ddof=0)\n",
    "\n",
    "# prikaz z vrijednosti  \n",
    "zdata.iloc[:,23:]"
   ]
  },
  {
   "cell_type": "code",
   "execution_count": 15,
   "metadata": {},
   "outputs": [
    {
     "data": {
      "text/html": [
       "<div>\n",
       "<style scoped>\n",
       "    .dataframe tbody tr th:only-of-type {\n",
       "        vertical-align: middle;\n",
       "    }\n",
       "\n",
       "    .dataframe tbody tr th {\n",
       "        vertical-align: top;\n",
       "    }\n",
       "\n",
       "    .dataframe thead th {\n",
       "        text-align: right;\n",
       "    }\n",
       "</style>\n",
       "<table border=\"1\" class=\"dataframe\">\n",
       "  <thead>\n",
       "    <tr style=\"text-align: right;\">\n",
       "      <th></th>\n",
       "      <th>kScore_b</th>\n",
       "      <th>kScore_e</th>\n",
       "      <th>kScore_LBE</th>\n",
       "      <th>kScore_LB</th>\n",
       "      <th>kScore_AC</th>\n",
       "      <th>kScore_FM</th>\n",
       "      <th>kScore_UC</th>\n",
       "      <th>kScore_ASTV</th>\n",
       "      <th>kScore_MSTV</th>\n",
       "      <th>kScore_ALTV</th>\n",
       "      <th>...</th>\n",
       "      <th>kScore_DP</th>\n",
       "      <th>kScore_Width</th>\n",
       "      <th>kScore_Min</th>\n",
       "      <th>kScore_Max</th>\n",
       "      <th>kScore_Nmax</th>\n",
       "      <th>kScore_Nzeros</th>\n",
       "      <th>kScore_Mode</th>\n",
       "      <th>kScore_Mean</th>\n",
       "      <th>kScore_Median</th>\n",
       "      <th>kScore_Variance</th>\n",
       "    </tr>\n",
       "  </thead>\n",
       "  <tbody>\n",
       "    <tr>\n",
       "      <td>0</td>\n",
       "      <td>-0.714239</td>\n",
       "      <td>-1.446091</td>\n",
       "      <td>-1.352220</td>\n",
       "      <td>-1.352220</td>\n",
       "      <td>-0.764740</td>\n",
       "      <td>-0.195096</td>\n",
       "      <td>-1.285798</td>\n",
       "      <td>1.513190</td>\n",
       "      <td>-0.943095</td>\n",
       "      <td>1.802542</td>\n",
       "      <td>...</td>\n",
       "      <td>-0.27153</td>\n",
       "      <td>-0.165507</td>\n",
       "      <td>-1.068562</td>\n",
       "      <td>-2.119592</td>\n",
       "      <td>-0.701397</td>\n",
       "      <td>-0.458444</td>\n",
       "      <td>-1.065614</td>\n",
       "      <td>0.153270</td>\n",
       "      <td>-1.181642</td>\n",
       "      <td>1.870569</td>\n",
       "    </tr>\n",
       "    <tr>\n",
       "      <td>1</td>\n",
       "      <td>-0.977139</td>\n",
       "      <td>-1.150615</td>\n",
       "      <td>-0.132526</td>\n",
       "      <td>-0.132526</td>\n",
       "      <td>0.358852</td>\n",
       "      <td>-0.195096</td>\n",
       "      <td>0.119475</td>\n",
       "      <td>-1.744751</td>\n",
       "      <td>0.868841</td>\n",
       "      <td>-0.535361</td>\n",
       "      <td>...</td>\n",
       "      <td>-0.27153</td>\n",
       "      <td>1.529124</td>\n",
       "      <td>-0.865539</td>\n",
       "      <td>1.893794</td>\n",
       "      <td>0.655137</td>\n",
       "      <td>0.958201</td>\n",
       "      <td>0.216638</td>\n",
       "      <td>0.089126</td>\n",
       "      <td>0.132038</td>\n",
       "      <td>-0.234998</td>\n",
       "    </tr>\n",
       "    <tr>\n",
       "      <td>2</td>\n",
       "      <td>-0.784718</td>\n",
       "      <td>-0.992669</td>\n",
       "      <td>-0.030884</td>\n",
       "      <td>-0.030884</td>\n",
       "      <td>-0.202944</td>\n",
       "      <td>-0.195096</td>\n",
       "      <td>0.470793</td>\n",
       "      <td>-1.802928</td>\n",
       "      <td>0.868841</td>\n",
       "      <td>-0.535361</td>\n",
       "      <td>...</td>\n",
       "      <td>-0.27153</td>\n",
       "      <td>1.529124</td>\n",
       "      <td>-0.865539</td>\n",
       "      <td>1.893794</td>\n",
       "      <td>0.316003</td>\n",
       "      <td>0.958201</td>\n",
       "      <td>0.216638</td>\n",
       "      <td>0.024982</td>\n",
       "      <td>-0.006244</td>\n",
       "      <td>-0.200481</td>\n",
       "    </tr>\n",
       "    <tr>\n",
       "      <td>3</td>\n",
       "      <td>-0.522937</td>\n",
       "      <td>-0.548917</td>\n",
       "      <td>0.070757</td>\n",
       "      <td>0.070757</td>\n",
       "      <td>-0.202944</td>\n",
       "      <td>-0.195096</td>\n",
       "      <td>0.822111</td>\n",
       "      <td>-1.802928</td>\n",
       "      <td>1.208579</td>\n",
       "      <td>-0.535361</td>\n",
       "      <td>...</td>\n",
       "      <td>-0.27153</td>\n",
       "      <td>1.195333</td>\n",
       "      <td>-1.373097</td>\n",
       "      <td>0.333033</td>\n",
       "      <td>2.350804</td>\n",
       "      <td>-0.458444</td>\n",
       "      <td>-0.027600</td>\n",
       "      <td>-0.039162</td>\n",
       "      <td>-0.075385</td>\n",
       "      <td>-0.200481</td>\n",
       "    </tr>\n",
       "    <tr>\n",
       "      <td>4</td>\n",
       "      <td>-0.386452</td>\n",
       "      <td>-0.597268</td>\n",
       "      <td>-0.132526</td>\n",
       "      <td>-0.132526</td>\n",
       "      <td>0.358852</td>\n",
       "      <td>-0.195096</td>\n",
       "      <td>0.470793</td>\n",
       "      <td>-1.802928</td>\n",
       "      <td>1.208579</td>\n",
       "      <td>-0.535361</td>\n",
       "      <td>...</td>\n",
       "      <td>-0.27153</td>\n",
       "      <td>1.195333</td>\n",
       "      <td>-1.373097</td>\n",
       "      <td>0.333033</td>\n",
       "      <td>1.672537</td>\n",
       "      <td>-0.458444</td>\n",
       "      <td>-0.027600</td>\n",
       "      <td>0.089126</td>\n",
       "      <td>-0.006244</td>\n",
       "      <td>-0.269516</td>\n",
       "    </tr>\n",
       "    <tr>\n",
       "      <td>...</td>\n",
       "      <td>...</td>\n",
       "      <td>...</td>\n",
       "      <td>...</td>\n",
       "      <td>...</td>\n",
       "      <td>...</td>\n",
       "      <td>...</td>\n",
       "      <td>...</td>\n",
       "      <td>...</td>\n",
       "      <td>...</td>\n",
       "      <td>...</td>\n",
       "      <td>...</td>\n",
       "      <td>...</td>\n",
       "      <td>...</td>\n",
       "      <td>...</td>\n",
       "      <td>...</td>\n",
       "      <td>...</td>\n",
       "      <td>...</td>\n",
       "      <td>...</td>\n",
       "      <td>...</td>\n",
       "      <td>...</td>\n",
       "      <td>...</td>\n",
       "    </tr>\n",
       "    <tr>\n",
       "      <td>2121</td>\n",
       "      <td>1.320723</td>\n",
       "      <td>1.250803</td>\n",
       "      <td>0.680604</td>\n",
       "      <td>0.680604</td>\n",
       "      <td>-0.764740</td>\n",
       "      <td>-0.195096</td>\n",
       "      <td>0.822111</td>\n",
       "      <td>1.862255</td>\n",
       "      <td>-1.282833</td>\n",
       "      <td>0.823885</td>\n",
       "      <td>...</td>\n",
       "      <td>-0.27153</td>\n",
       "      <td>-0.781736</td>\n",
       "      <td>1.469229</td>\n",
       "      <td>0.723223</td>\n",
       "      <td>-0.023130</td>\n",
       "      <td>-0.458444</td>\n",
       "      <td>0.949354</td>\n",
       "      <td>0.987141</td>\n",
       "      <td>0.961731</td>\n",
       "      <td>-0.580173</td>\n",
       "    </tr>\n",
       "    <tr>\n",
       "      <td>2122</td>\n",
       "      <td>0.780378</td>\n",
       "      <td>1.250803</td>\n",
       "      <td>0.680604</td>\n",
       "      <td>0.680604</td>\n",
       "      <td>-0.483842</td>\n",
       "      <td>-0.195096</td>\n",
       "      <td>1.876065</td>\n",
       "      <td>1.804078</td>\n",
       "      <td>-1.056341</td>\n",
       "      <td>0.660775</td>\n",
       "      <td>...</td>\n",
       "      <td>-0.27153</td>\n",
       "      <td>-0.114154</td>\n",
       "      <td>0.318764</td>\n",
       "      <td>0.277292</td>\n",
       "      <td>0.655137</td>\n",
       "      <td>-0.458444</td>\n",
       "      <td>0.888294</td>\n",
       "      <td>0.858853</td>\n",
       "      <td>0.892590</td>\n",
       "      <td>-0.545656</td>\n",
       "    </tr>\n",
       "    <tr>\n",
       "      <td>2123</td>\n",
       "      <td>0.780378</td>\n",
       "      <td>0.959625</td>\n",
       "      <td>0.680604</td>\n",
       "      <td>0.680604</td>\n",
       "      <td>-0.483842</td>\n",
       "      <td>-0.195096</td>\n",
       "      <td>1.173429</td>\n",
       "      <td>1.862255</td>\n",
       "      <td>-1.056341</td>\n",
       "      <td>0.552035</td>\n",
       "      <td>...</td>\n",
       "      <td>-0.27153</td>\n",
       "      <td>-0.088478</td>\n",
       "      <td>0.318764</td>\n",
       "      <td>0.333033</td>\n",
       "      <td>0.316003</td>\n",
       "      <td>-0.458444</td>\n",
       "      <td>0.949354</td>\n",
       "      <td>0.858853</td>\n",
       "      <td>0.961731</td>\n",
       "      <td>-0.511138</td>\n",
       "    </tr>\n",
       "    <tr>\n",
       "      <td>2124</td>\n",
       "      <td>0.780378</td>\n",
       "      <td>1.446355</td>\n",
       "      <td>0.680604</td>\n",
       "      <td>0.680604</td>\n",
       "      <td>-0.483842</td>\n",
       "      <td>-0.195096</td>\n",
       "      <td>1.876065</td>\n",
       "      <td>1.804078</td>\n",
       "      <td>-1.056341</td>\n",
       "      <td>0.932624</td>\n",
       "      <td>...</td>\n",
       "      <td>-0.27153</td>\n",
       "      <td>-0.114154</td>\n",
       "      <td>0.318764</td>\n",
       "      <td>0.277292</td>\n",
       "      <td>0.655137</td>\n",
       "      <td>-0.458444</td>\n",
       "      <td>0.888294</td>\n",
       "      <td>0.794709</td>\n",
       "      <td>0.892590</td>\n",
       "      <td>-0.511138</td>\n",
       "    </tr>\n",
       "    <tr>\n",
       "      <td>2125</td>\n",
       "      <td>2.145223</td>\n",
       "      <td>1.839607</td>\n",
       "      <td>0.883886</td>\n",
       "      <td>0.883886</td>\n",
       "      <td>-0.483842</td>\n",
       "      <td>-0.168154</td>\n",
       "      <td>0.470793</td>\n",
       "      <td>1.571368</td>\n",
       "      <td>-1.056341</td>\n",
       "      <td>1.421953</td>\n",
       "      <td>...</td>\n",
       "      <td>-0.27153</td>\n",
       "      <td>-0.730384</td>\n",
       "      <td>0.792485</td>\n",
       "      <td>-0.280123</td>\n",
       "      <td>-0.701397</td>\n",
       "      <td>0.958201</td>\n",
       "      <td>0.460877</td>\n",
       "      <td>0.538134</td>\n",
       "      <td>0.477743</td>\n",
       "      <td>-0.614691</td>\n",
       "    </tr>\n",
       "  </tbody>\n",
       "</table>\n",
       "<p>2126 rows × 23 columns</p>\n",
       "</div>"
      ],
      "text/plain": [
       "      kScore_b  kScore_e  kScore_LBE  kScore_LB  kScore_AC  kScore_FM  \\\n",
       "0    -0.714239 -1.446091   -1.352220  -1.352220  -0.764740  -0.195096   \n",
       "1    -0.977139 -1.150615   -0.132526  -0.132526   0.358852  -0.195096   \n",
       "2    -0.784718 -0.992669   -0.030884  -0.030884  -0.202944  -0.195096   \n",
       "3    -0.522937 -0.548917    0.070757   0.070757  -0.202944  -0.195096   \n",
       "4    -0.386452 -0.597268   -0.132526  -0.132526   0.358852  -0.195096   \n",
       "...        ...       ...         ...        ...        ...        ...   \n",
       "2121  1.320723  1.250803    0.680604   0.680604  -0.764740  -0.195096   \n",
       "2122  0.780378  1.250803    0.680604   0.680604  -0.483842  -0.195096   \n",
       "2123  0.780378  0.959625    0.680604   0.680604  -0.483842  -0.195096   \n",
       "2124  0.780378  1.446355    0.680604   0.680604  -0.483842  -0.195096   \n",
       "2125  2.145223  1.839607    0.883886   0.883886  -0.483842  -0.168154   \n",
       "\n",
       "      kScore_UC  kScore_ASTV  kScore_MSTV  kScore_ALTV  ...  kScore_DP  \\\n",
       "0     -1.285798     1.513190    -0.943095     1.802542  ...   -0.27153   \n",
       "1      0.119475    -1.744751     0.868841    -0.535361  ...   -0.27153   \n",
       "2      0.470793    -1.802928     0.868841    -0.535361  ...   -0.27153   \n",
       "3      0.822111    -1.802928     1.208579    -0.535361  ...   -0.27153   \n",
       "4      0.470793    -1.802928     1.208579    -0.535361  ...   -0.27153   \n",
       "...         ...          ...          ...          ...  ...        ...   \n",
       "2121   0.822111     1.862255    -1.282833     0.823885  ...   -0.27153   \n",
       "2122   1.876065     1.804078    -1.056341     0.660775  ...   -0.27153   \n",
       "2123   1.173429     1.862255    -1.056341     0.552035  ...   -0.27153   \n",
       "2124   1.876065     1.804078    -1.056341     0.932624  ...   -0.27153   \n",
       "2125   0.470793     1.571368    -1.056341     1.421953  ...   -0.27153   \n",
       "\n",
       "      kScore_Width  kScore_Min  kScore_Max  kScore_Nmax  kScore_Nzeros  \\\n",
       "0        -0.165507   -1.068562   -2.119592    -0.701397      -0.458444   \n",
       "1         1.529124   -0.865539    1.893794     0.655137       0.958201   \n",
       "2         1.529124   -0.865539    1.893794     0.316003       0.958201   \n",
       "3         1.195333   -1.373097    0.333033     2.350804      -0.458444   \n",
       "4         1.195333   -1.373097    0.333033     1.672537      -0.458444   \n",
       "...            ...         ...         ...          ...            ...   \n",
       "2121     -0.781736    1.469229    0.723223    -0.023130      -0.458444   \n",
       "2122     -0.114154    0.318764    0.277292     0.655137      -0.458444   \n",
       "2123     -0.088478    0.318764    0.333033     0.316003      -0.458444   \n",
       "2124     -0.114154    0.318764    0.277292     0.655137      -0.458444   \n",
       "2125     -0.730384    0.792485   -0.280123    -0.701397       0.958201   \n",
       "\n",
       "      kScore_Mode  kScore_Mean  kScore_Median  kScore_Variance  \n",
       "0       -1.065614     0.153270      -1.181642         1.870569  \n",
       "1        0.216638     0.089126       0.132038        -0.234998  \n",
       "2        0.216638     0.024982      -0.006244        -0.200481  \n",
       "3       -0.027600    -0.039162      -0.075385        -0.200481  \n",
       "4       -0.027600     0.089126      -0.006244        -0.269516  \n",
       "...           ...          ...            ...              ...  \n",
       "2121     0.949354     0.987141       0.961731        -0.580173  \n",
       "2122     0.888294     0.858853       0.892590        -0.545656  \n",
       "2123     0.949354     0.858853       0.961731        -0.511138  \n",
       "2124     0.888294     0.794709       0.892590        -0.511138  \n",
       "2125     0.460877     0.538134       0.477743        -0.614691  \n",
       "\n",
       "[2126 rows x 23 columns]"
      ]
     },
     "execution_count": 15,
     "metadata": {},
     "output_type": "execute_result"
    }
   ],
   "source": [
    "# računanje k vrijednosti\n",
    "\n",
    "kdata = contdf.copy()\n",
    "\n",
    "for column in kdata:\n",
    "    kvalue = 'kScore_'+column \n",
    "    kdata[kvalue] = (kdata[column] - kdata[column].mean())/kdata[column].std(ddof=0)\n",
    "\n",
    "kdata.iloc[:,23:]"
   ]
  },
  {
   "cell_type": "code",
   "execution_count": 16,
   "metadata": {},
   "outputs": [
    {
     "name": "stdout",
     "output_type": "stream",
     "text": [
      "KURTOSIS\n",
      "b            -0.540230\n",
      "e            -0.820215\n",
      "LBE          -0.292943\n",
      "LB           -0.292943\n",
      "AC            3.122493\n",
      "FM          104.634368\n",
      "UC            1.289254\n",
      "ASTV         -1.051030\n",
      "MSTV          4.700756\n",
      "ALTV          4.252998\n",
      "MLTV          4.131254\n",
      "DL            3.146846\n",
      "DS          299.424142\n",
      "DP           19.220444\n",
      "Width        -0.902287\n",
      "Min          -1.290422\n",
      "Max           0.632769\n",
      "Nmax          0.504211\n",
      "Nzeros       30.365084\n",
      "Mode          3.009531\n",
      "Mean          0.933427\n",
      "Median        0.667259\n",
      "Variance     15.131589\n",
      "dtype: float64\n"
     ]
    }
   ],
   "source": [
    "# zaobljenost\n",
    "print(\"KURTOSIS\")\n",
    "print(contdf.copy().kurtosis())"
   ]
  },
  {
   "cell_type": "code",
   "execution_count": 17,
   "metadata": {},
   "outputs": [
    {
     "name": "stdout",
     "output_type": "stream",
     "text": [
      "SKEWNESS\n",
      "b            0.829898\n",
      "e            0.663002\n",
      "LBE          0.020312\n",
      "LB           0.020312\n",
      "AC           1.658830\n",
      "FM           9.427496\n",
      "UC           0.835346\n",
      "ASTV        -0.011829\n",
      "MSTV         1.657339\n",
      "ALTV         2.195075\n",
      "MLTV         1.331998\n",
      "DL           1.819119\n",
      "DS          17.353457\n",
      "DP           4.235888\n",
      "Width        0.314235\n",
      "Min          0.115784\n",
      "Max          0.577862\n",
      "Nmax         0.892886\n",
      "Nzeros       3.920287\n",
      "Mode        -0.995178\n",
      "Mean        -0.651019\n",
      "Median      -0.478414\n",
      "Variance     3.219974\n",
      "dtype: float64\n"
     ]
    }
   ],
   "source": [
    "# nagnutost\n",
    "print(\"SKEWNESS\")\n",
    "print(contdf.copy().skew())"
   ]
  },
  {
   "cell_type": "markdown",
   "metadata": {},
   "source": [
    "Korelacija:"
   ]
  },
  {
   "cell_type": "code",
   "execution_count": 18,
   "metadata": {},
   "outputs": [
    {
     "name": "stdout",
     "output_type": "stream",
     "text": [
      "Korelacije s ciljnom varijablom (NSP):\n",
      "b: -0.11075604370794624\n",
      "e: -0.1174987723782061\n",
      "LBE: 0.14815112725707985\n",
      "LB: 0.14815112725707985\n",
      "AC: -0.34039380675727365\n",
      "FM: 0.060366036902467245\n",
      "UC: -0.1632949124475262\n",
      "ASTV: 0.4711907528466756\n",
      "MSTV: -0.10338211704475021\n",
      "ALTV: 0.42614641992406344\n",
      "MLTV: -0.22679706542348105\n",
      "DL: 0.06532752122293436\n",
      "DS: 0.13193412558923603\n",
      "DP: 0.4906255356640359\n",
      "Width: -0.06878875666077877\n",
      "Min: 0.06317490679278144\n",
      "Max: -0.04526536674253295\n",
      "Nmax: -0.023665951775175602\n",
      "Nzeros: -0.01668181232561782\n",
      "Mode: -0.25041181222287767\n",
      "Mean: -0.22698517650772937\n",
      "Median: -0.20503299554125753\n",
      "Variance: 0.20662962204272553\n",
      "Tendency: -0.13197641519785697\n",
      "A: -0.22864037254345534\n",
      "B: -0.30311153681115544\n",
      "C: -0.07922215013335285\n",
      "D: -0.09860619365995019\n",
      "E: 0.1993494557542711\n",
      "AD: -0.20892151701573086\n",
      "DE: -0.12245964005031326\n",
      "LD: 0.6355256144866742\n",
      "FS: 0.5012898393843455\n",
      "SUSP: 0.36458320830971014\n",
      "CLASS: 0.6430339768778475\n",
      "NSP: 1.0\n"
     ]
    }
   ],
   "source": [
    "# računanje koeficijenata korelacije s ciljnom varijablom NSP \n",
    "\n",
    "corrdata = df.copy()\n",
    "\n",
    "del corrdata[\"FileName\"]\n",
    "del corrdata[\"Date\"]\n",
    "del corrdata[\"SegFile\"]\n",
    "del corrdata[\"DR\"]\n",
    "\n",
    "print(\"Korelacije s ciljnom varijablom (NSP):\")\n",
    "for column in corrdata:\n",
    "    print(column + ': ' + str(corrdata[column].corr(corrdata['NSP'])))"
   ]
  },
  {
   "cell_type": "markdown",
   "metadata": {},
   "source": [
    "Interpretacija koeficijenta korelacije:\n",
    "\n",
    "\n",
    "\n",
    "Najviše ovisi o kontekstu, o prirodi pojava. Okvirne granice su:\n",
    "\n",
    "• od 0.00 do ±0.20 ➩ nikakva ili neznatna povezanost\n",
    "\n",
    "• od ±0.20 do ±0.40 ➩ lagana povezanost\n",
    "\n",
    "• od ±0.40 do ±0.70 ➩ stvarna značajna povezanost\n",
    "\n",
    "• od ±0.70 do ±1.00 ➩ visoka ili vrlo visoka povezanost\n",
    "\n",
    "\n",
    "\n",
    "Iz rezultata i pragova iznad možemo zaključiti da varijable:\n",
    "\n",
    "- ASTV, ALTV, DP, LD, FS i CLASS spadaju u kategoriju značajne povezanosti\n",
    "- AC, MLTV, Mode, Mean, Median, Variance, A, B, E, AD i SUSP spadaju u kategoriju lagane povezanosti\n",
    "\n",
    "Najznačajniju povezanost ima varijabla CLASS (0.643) tj. možemo reći da ima značajnu pozitivnu korelaciju."
   ]
  },
  {
   "cell_type": "markdown",
   "metadata": {},
   "source": [
    "Korelacija izražena kroz z vrijednost:"
   ]
  },
  {
   "cell_type": "code",
   "execution_count": 19,
   "metadata": {},
   "outputs": [
    {
     "data": {
      "text/html": [
       "<div>\n",
       "<style scoped>\n",
       "    .dataframe tbody tr th:only-of-type {\n",
       "        vertical-align: middle;\n",
       "    }\n",
       "\n",
       "    .dataframe tbody tr th {\n",
       "        vertical-align: top;\n",
       "    }\n",
       "\n",
       "    .dataframe thead th {\n",
       "        text-align: right;\n",
       "    }\n",
       "</style>\n",
       "<table border=\"1\" class=\"dataframe\">\n",
       "  <thead>\n",
       "    <tr style=\"text-align: right;\">\n",
       "      <th></th>\n",
       "      <th>b_zscore</th>\n",
       "      <th>e_zscore</th>\n",
       "      <th>LBE_zscore</th>\n",
       "      <th>LB_zscore</th>\n",
       "      <th>AC_zscore</th>\n",
       "      <th>FM_zscore</th>\n",
       "      <th>UC_zscore</th>\n",
       "      <th>ASTV_zscore</th>\n",
       "      <th>MSTV_zscore</th>\n",
       "      <th>ALTV_zscore</th>\n",
       "      <th>...</th>\n",
       "      <th>DP_zscore</th>\n",
       "      <th>Width_zscore</th>\n",
       "      <th>Min_zscore</th>\n",
       "      <th>Max_zscore</th>\n",
       "      <th>Nmax_zscore</th>\n",
       "      <th>Nzeros_zscore</th>\n",
       "      <th>Mode_zscore</th>\n",
       "      <th>Mean_zscore</th>\n",
       "      <th>Median_zscore</th>\n",
       "      <th>Variance_zscore</th>\n",
       "    </tr>\n",
       "  </thead>\n",
       "  <tbody>\n",
       "    <tr>\n",
       "      <td>0</td>\n",
       "      <td>-0.714239</td>\n",
       "      <td>-1.446091</td>\n",
       "      <td>-1.352220</td>\n",
       "      <td>-1.352220</td>\n",
       "      <td>-0.764740</td>\n",
       "      <td>-0.195096</td>\n",
       "      <td>-1.285798</td>\n",
       "      <td>1.513190</td>\n",
       "      <td>-0.943095</td>\n",
       "      <td>1.802542</td>\n",
       "      <td>...</td>\n",
       "      <td>-0.27153</td>\n",
       "      <td>-0.165507</td>\n",
       "      <td>-1.068562</td>\n",
       "      <td>-2.119592</td>\n",
       "      <td>-0.701397</td>\n",
       "      <td>-0.458444</td>\n",
       "      <td>-1.065614</td>\n",
       "      <td>0.153270</td>\n",
       "      <td>-1.181642</td>\n",
       "      <td>1.870569</td>\n",
       "    </tr>\n",
       "    <tr>\n",
       "      <td>1</td>\n",
       "      <td>-0.977139</td>\n",
       "      <td>-1.150615</td>\n",
       "      <td>-0.132526</td>\n",
       "      <td>-0.132526</td>\n",
       "      <td>0.358852</td>\n",
       "      <td>-0.195096</td>\n",
       "      <td>0.119475</td>\n",
       "      <td>-1.744751</td>\n",
       "      <td>0.868841</td>\n",
       "      <td>-0.535361</td>\n",
       "      <td>...</td>\n",
       "      <td>-0.27153</td>\n",
       "      <td>1.529124</td>\n",
       "      <td>-0.865539</td>\n",
       "      <td>1.893794</td>\n",
       "      <td>0.655137</td>\n",
       "      <td>0.958201</td>\n",
       "      <td>0.216638</td>\n",
       "      <td>0.089126</td>\n",
       "      <td>0.132038</td>\n",
       "      <td>-0.234998</td>\n",
       "    </tr>\n",
       "    <tr>\n",
       "      <td>2</td>\n",
       "      <td>-0.784718</td>\n",
       "      <td>-0.992669</td>\n",
       "      <td>-0.030884</td>\n",
       "      <td>-0.030884</td>\n",
       "      <td>-0.202944</td>\n",
       "      <td>-0.195096</td>\n",
       "      <td>0.470793</td>\n",
       "      <td>-1.802928</td>\n",
       "      <td>0.868841</td>\n",
       "      <td>-0.535361</td>\n",
       "      <td>...</td>\n",
       "      <td>-0.27153</td>\n",
       "      <td>1.529124</td>\n",
       "      <td>-0.865539</td>\n",
       "      <td>1.893794</td>\n",
       "      <td>0.316003</td>\n",
       "      <td>0.958201</td>\n",
       "      <td>0.216638</td>\n",
       "      <td>0.024982</td>\n",
       "      <td>-0.006244</td>\n",
       "      <td>-0.200481</td>\n",
       "    </tr>\n",
       "    <tr>\n",
       "      <td>3</td>\n",
       "      <td>-0.522937</td>\n",
       "      <td>-0.548917</td>\n",
       "      <td>0.070757</td>\n",
       "      <td>0.070757</td>\n",
       "      <td>-0.202944</td>\n",
       "      <td>-0.195096</td>\n",
       "      <td>0.822111</td>\n",
       "      <td>-1.802928</td>\n",
       "      <td>1.208579</td>\n",
       "      <td>-0.535361</td>\n",
       "      <td>...</td>\n",
       "      <td>-0.27153</td>\n",
       "      <td>1.195333</td>\n",
       "      <td>-1.373097</td>\n",
       "      <td>0.333033</td>\n",
       "      <td>2.350804</td>\n",
       "      <td>-0.458444</td>\n",
       "      <td>-0.027600</td>\n",
       "      <td>-0.039162</td>\n",
       "      <td>-0.075385</td>\n",
       "      <td>-0.200481</td>\n",
       "    </tr>\n",
       "    <tr>\n",
       "      <td>4</td>\n",
       "      <td>-0.386452</td>\n",
       "      <td>-0.597268</td>\n",
       "      <td>-0.132526</td>\n",
       "      <td>-0.132526</td>\n",
       "      <td>0.358852</td>\n",
       "      <td>-0.195096</td>\n",
       "      <td>0.470793</td>\n",
       "      <td>-1.802928</td>\n",
       "      <td>1.208579</td>\n",
       "      <td>-0.535361</td>\n",
       "      <td>...</td>\n",
       "      <td>-0.27153</td>\n",
       "      <td>1.195333</td>\n",
       "      <td>-1.373097</td>\n",
       "      <td>0.333033</td>\n",
       "      <td>1.672537</td>\n",
       "      <td>-0.458444</td>\n",
       "      <td>-0.027600</td>\n",
       "      <td>0.089126</td>\n",
       "      <td>-0.006244</td>\n",
       "      <td>-0.269516</td>\n",
       "    </tr>\n",
       "    <tr>\n",
       "      <td>...</td>\n",
       "      <td>...</td>\n",
       "      <td>...</td>\n",
       "      <td>...</td>\n",
       "      <td>...</td>\n",
       "      <td>...</td>\n",
       "      <td>...</td>\n",
       "      <td>...</td>\n",
       "      <td>...</td>\n",
       "      <td>...</td>\n",
       "      <td>...</td>\n",
       "      <td>...</td>\n",
       "      <td>...</td>\n",
       "      <td>...</td>\n",
       "      <td>...</td>\n",
       "      <td>...</td>\n",
       "      <td>...</td>\n",
       "      <td>...</td>\n",
       "      <td>...</td>\n",
       "      <td>...</td>\n",
       "      <td>...</td>\n",
       "      <td>...</td>\n",
       "    </tr>\n",
       "    <tr>\n",
       "      <td>2121</td>\n",
       "      <td>1.320723</td>\n",
       "      <td>1.250803</td>\n",
       "      <td>0.680604</td>\n",
       "      <td>0.680604</td>\n",
       "      <td>-0.764740</td>\n",
       "      <td>-0.195096</td>\n",
       "      <td>0.822111</td>\n",
       "      <td>1.862255</td>\n",
       "      <td>-1.282833</td>\n",
       "      <td>0.823885</td>\n",
       "      <td>...</td>\n",
       "      <td>-0.27153</td>\n",
       "      <td>-0.781736</td>\n",
       "      <td>1.469229</td>\n",
       "      <td>0.723223</td>\n",
       "      <td>-0.023130</td>\n",
       "      <td>-0.458444</td>\n",
       "      <td>0.949354</td>\n",
       "      <td>0.987141</td>\n",
       "      <td>0.961731</td>\n",
       "      <td>-0.580173</td>\n",
       "    </tr>\n",
       "    <tr>\n",
       "      <td>2122</td>\n",
       "      <td>0.780378</td>\n",
       "      <td>1.250803</td>\n",
       "      <td>0.680604</td>\n",
       "      <td>0.680604</td>\n",
       "      <td>-0.483842</td>\n",
       "      <td>-0.195096</td>\n",
       "      <td>1.876065</td>\n",
       "      <td>1.804078</td>\n",
       "      <td>-1.056341</td>\n",
       "      <td>0.660775</td>\n",
       "      <td>...</td>\n",
       "      <td>-0.27153</td>\n",
       "      <td>-0.114154</td>\n",
       "      <td>0.318764</td>\n",
       "      <td>0.277292</td>\n",
       "      <td>0.655137</td>\n",
       "      <td>-0.458444</td>\n",
       "      <td>0.888294</td>\n",
       "      <td>0.858853</td>\n",
       "      <td>0.892590</td>\n",
       "      <td>-0.545656</td>\n",
       "    </tr>\n",
       "    <tr>\n",
       "      <td>2123</td>\n",
       "      <td>0.780378</td>\n",
       "      <td>0.959625</td>\n",
       "      <td>0.680604</td>\n",
       "      <td>0.680604</td>\n",
       "      <td>-0.483842</td>\n",
       "      <td>-0.195096</td>\n",
       "      <td>1.173429</td>\n",
       "      <td>1.862255</td>\n",
       "      <td>-1.056341</td>\n",
       "      <td>0.552035</td>\n",
       "      <td>...</td>\n",
       "      <td>-0.27153</td>\n",
       "      <td>-0.088478</td>\n",
       "      <td>0.318764</td>\n",
       "      <td>0.333033</td>\n",
       "      <td>0.316003</td>\n",
       "      <td>-0.458444</td>\n",
       "      <td>0.949354</td>\n",
       "      <td>0.858853</td>\n",
       "      <td>0.961731</td>\n",
       "      <td>-0.511138</td>\n",
       "    </tr>\n",
       "    <tr>\n",
       "      <td>2124</td>\n",
       "      <td>0.780378</td>\n",
       "      <td>1.446355</td>\n",
       "      <td>0.680604</td>\n",
       "      <td>0.680604</td>\n",
       "      <td>-0.483842</td>\n",
       "      <td>-0.195096</td>\n",
       "      <td>1.876065</td>\n",
       "      <td>1.804078</td>\n",
       "      <td>-1.056341</td>\n",
       "      <td>0.932624</td>\n",
       "      <td>...</td>\n",
       "      <td>-0.27153</td>\n",
       "      <td>-0.114154</td>\n",
       "      <td>0.318764</td>\n",
       "      <td>0.277292</td>\n",
       "      <td>0.655137</td>\n",
       "      <td>-0.458444</td>\n",
       "      <td>0.888294</td>\n",
       "      <td>0.794709</td>\n",
       "      <td>0.892590</td>\n",
       "      <td>-0.511138</td>\n",
       "    </tr>\n",
       "    <tr>\n",
       "      <td>2125</td>\n",
       "      <td>2.145223</td>\n",
       "      <td>1.839607</td>\n",
       "      <td>0.883886</td>\n",
       "      <td>0.883886</td>\n",
       "      <td>-0.483842</td>\n",
       "      <td>-0.168154</td>\n",
       "      <td>0.470793</td>\n",
       "      <td>1.571368</td>\n",
       "      <td>-1.056341</td>\n",
       "      <td>1.421953</td>\n",
       "      <td>...</td>\n",
       "      <td>-0.27153</td>\n",
       "      <td>-0.730384</td>\n",
       "      <td>0.792485</td>\n",
       "      <td>-0.280123</td>\n",
       "      <td>-0.701397</td>\n",
       "      <td>0.958201</td>\n",
       "      <td>0.460877</td>\n",
       "      <td>0.538134</td>\n",
       "      <td>0.477743</td>\n",
       "      <td>-0.614691</td>\n",
       "    </tr>\n",
       "  </tbody>\n",
       "</table>\n",
       "<p>2126 rows × 23 columns</p>\n",
       "</div>"
      ],
      "text/plain": [
       "      b_zscore  e_zscore  LBE_zscore  LB_zscore  AC_zscore  FM_zscore  \\\n",
       "0    -0.714239 -1.446091   -1.352220  -1.352220  -0.764740  -0.195096   \n",
       "1    -0.977139 -1.150615   -0.132526  -0.132526   0.358852  -0.195096   \n",
       "2    -0.784718 -0.992669   -0.030884  -0.030884  -0.202944  -0.195096   \n",
       "3    -0.522937 -0.548917    0.070757   0.070757  -0.202944  -0.195096   \n",
       "4    -0.386452 -0.597268   -0.132526  -0.132526   0.358852  -0.195096   \n",
       "...        ...       ...         ...        ...        ...        ...   \n",
       "2121  1.320723  1.250803    0.680604   0.680604  -0.764740  -0.195096   \n",
       "2122  0.780378  1.250803    0.680604   0.680604  -0.483842  -0.195096   \n",
       "2123  0.780378  0.959625    0.680604   0.680604  -0.483842  -0.195096   \n",
       "2124  0.780378  1.446355    0.680604   0.680604  -0.483842  -0.195096   \n",
       "2125  2.145223  1.839607    0.883886   0.883886  -0.483842  -0.168154   \n",
       "\n",
       "      UC_zscore  ASTV_zscore  MSTV_zscore  ALTV_zscore  ...  DP_zscore  \\\n",
       "0     -1.285798     1.513190    -0.943095     1.802542  ...   -0.27153   \n",
       "1      0.119475    -1.744751     0.868841    -0.535361  ...   -0.27153   \n",
       "2      0.470793    -1.802928     0.868841    -0.535361  ...   -0.27153   \n",
       "3      0.822111    -1.802928     1.208579    -0.535361  ...   -0.27153   \n",
       "4      0.470793    -1.802928     1.208579    -0.535361  ...   -0.27153   \n",
       "...         ...          ...          ...          ...  ...        ...   \n",
       "2121   0.822111     1.862255    -1.282833     0.823885  ...   -0.27153   \n",
       "2122   1.876065     1.804078    -1.056341     0.660775  ...   -0.27153   \n",
       "2123   1.173429     1.862255    -1.056341     0.552035  ...   -0.27153   \n",
       "2124   1.876065     1.804078    -1.056341     0.932624  ...   -0.27153   \n",
       "2125   0.470793     1.571368    -1.056341     1.421953  ...   -0.27153   \n",
       "\n",
       "      Width_zscore  Min_zscore  Max_zscore  Nmax_zscore  Nzeros_zscore  \\\n",
       "0        -0.165507   -1.068562   -2.119592    -0.701397      -0.458444   \n",
       "1         1.529124   -0.865539    1.893794     0.655137       0.958201   \n",
       "2         1.529124   -0.865539    1.893794     0.316003       0.958201   \n",
       "3         1.195333   -1.373097    0.333033     2.350804      -0.458444   \n",
       "4         1.195333   -1.373097    0.333033     1.672537      -0.458444   \n",
       "...            ...         ...         ...          ...            ...   \n",
       "2121     -0.781736    1.469229    0.723223    -0.023130      -0.458444   \n",
       "2122     -0.114154    0.318764    0.277292     0.655137      -0.458444   \n",
       "2123     -0.088478    0.318764    0.333033     0.316003      -0.458444   \n",
       "2124     -0.114154    0.318764    0.277292     0.655137      -0.458444   \n",
       "2125     -0.730384    0.792485   -0.280123    -0.701397       0.958201   \n",
       "\n",
       "      Mode_zscore  Mean_zscore  Median_zscore  Variance_zscore  \n",
       "0       -1.065614     0.153270      -1.181642         1.870569  \n",
       "1        0.216638     0.089126       0.132038        -0.234998  \n",
       "2        0.216638     0.024982      -0.006244        -0.200481  \n",
       "3       -0.027600    -0.039162      -0.075385        -0.200481  \n",
       "4       -0.027600     0.089126      -0.006244        -0.269516  \n",
       "...           ...          ...            ...              ...  \n",
       "2121     0.949354     0.987141       0.961731        -0.580173  \n",
       "2122     0.888294     0.858853       0.892590        -0.545656  \n",
       "2123     0.949354     0.858853       0.961731        -0.511138  \n",
       "2124     0.888294     0.794709       0.892590        -0.511138  \n",
       "2125     0.460877     0.538134       0.477743        -0.614691  \n",
       "\n",
       "[2126 rows x 23 columns]"
      ]
     },
     "execution_count": 19,
     "metadata": {},
     "output_type": "execute_result"
    }
   ],
   "source": [
    "# izdvajanje subseta koji sadrži z vrijednosti\n",
    "corrz = zdata.iloc[:,23:]\n",
    "corrz"
   ]
  },
  {
   "cell_type": "code",
   "execution_count": 20,
   "metadata": {},
   "outputs": [
    {
     "data": {
      "text/html": [
       "<div>\n",
       "<style scoped>\n",
       "    .dataframe tbody tr th:only-of-type {\n",
       "        vertical-align: middle;\n",
       "    }\n",
       "\n",
       "    .dataframe tbody tr th {\n",
       "        vertical-align: top;\n",
       "    }\n",
       "\n",
       "    .dataframe thead th {\n",
       "        text-align: right;\n",
       "    }\n",
       "</style>\n",
       "<table border=\"1\" class=\"dataframe\">\n",
       "  <thead>\n",
       "    <tr style=\"text-align: right;\">\n",
       "      <th></th>\n",
       "      <th>Bin_b_zscore</th>\n",
       "      <th>Bin_e_zscore</th>\n",
       "      <th>Bin_LBE_zscore</th>\n",
       "      <th>Bin_LB_zscore</th>\n",
       "      <th>Bin_AC_zscore</th>\n",
       "      <th>Bin_FM_zscore</th>\n",
       "      <th>Bin_UC_zscore</th>\n",
       "      <th>Bin_ASTV_zscore</th>\n",
       "      <th>Bin_MSTV_zscore</th>\n",
       "      <th>Bin_ALTV_zscore</th>\n",
       "      <th>...</th>\n",
       "      <th>Bin_DP_zscore</th>\n",
       "      <th>Bin_Width_zscore</th>\n",
       "      <th>Bin_Min_zscore</th>\n",
       "      <th>Bin_Max_zscore</th>\n",
       "      <th>Bin_Nmax_zscore</th>\n",
       "      <th>Bin_Nzeros_zscore</th>\n",
       "      <th>Bin_Mode_zscore</th>\n",
       "      <th>Bin_Mean_zscore</th>\n",
       "      <th>Bin_Median_zscore</th>\n",
       "      <th>Bin_Variance_zscore</th>\n",
       "    </tr>\n",
       "  </thead>\n",
       "  <tbody>\n",
       "    <tr>\n",
       "      <td>0</td>\n",
       "      <td>(-3.0, 3.0]</td>\n",
       "      <td>(-3.0, 3.0]</td>\n",
       "      <td>(-3.0, 3.0]</td>\n",
       "      <td>(-3.0, 3.0]</td>\n",
       "      <td>(-3.0, 3.0]</td>\n",
       "      <td>(-3.0, 3.0]</td>\n",
       "      <td>(-3.0, 3.0]</td>\n",
       "      <td>(-3.0, 3.0]</td>\n",
       "      <td>(-3.0, 3.0]</td>\n",
       "      <td>(-3.0, 3.0]</td>\n",
       "      <td>...</td>\n",
       "      <td>(-3.0, 3.0]</td>\n",
       "      <td>(-3.0, 3.0]</td>\n",
       "      <td>(-3.0, 3.0]</td>\n",
       "      <td>(-3.0, 3.0]</td>\n",
       "      <td>(-3.0, 3.0]</td>\n",
       "      <td>(-3.0, 3.0]</td>\n",
       "      <td>(-3.0, 3.0]</td>\n",
       "      <td>(-3.0, 3.0]</td>\n",
       "      <td>(-3.0, 3.0]</td>\n",
       "      <td>(-3.0, 3.0]</td>\n",
       "    </tr>\n",
       "    <tr>\n",
       "      <td>1</td>\n",
       "      <td>(-3.0, 3.0]</td>\n",
       "      <td>(-3.0, 3.0]</td>\n",
       "      <td>(-3.0, 3.0]</td>\n",
       "      <td>(-3.0, 3.0]</td>\n",
       "      <td>(-3.0, 3.0]</td>\n",
       "      <td>(-3.0, 3.0]</td>\n",
       "      <td>(-3.0, 3.0]</td>\n",
       "      <td>(-3.0, 3.0]</td>\n",
       "      <td>(-3.0, 3.0]</td>\n",
       "      <td>(-3.0, 3.0]</td>\n",
       "      <td>...</td>\n",
       "      <td>(-3.0, 3.0]</td>\n",
       "      <td>(-3.0, 3.0]</td>\n",
       "      <td>(-3.0, 3.0]</td>\n",
       "      <td>(-3.0, 3.0]</td>\n",
       "      <td>(-3.0, 3.0]</td>\n",
       "      <td>(-3.0, 3.0]</td>\n",
       "      <td>(-3.0, 3.0]</td>\n",
       "      <td>(-3.0, 3.0]</td>\n",
       "      <td>(-3.0, 3.0]</td>\n",
       "      <td>(-3.0, 3.0]</td>\n",
       "    </tr>\n",
       "    <tr>\n",
       "      <td>2</td>\n",
       "      <td>(-3.0, 3.0]</td>\n",
       "      <td>(-3.0, 3.0]</td>\n",
       "      <td>(-3.0, 3.0]</td>\n",
       "      <td>(-3.0, 3.0]</td>\n",
       "      <td>(-3.0, 3.0]</td>\n",
       "      <td>(-3.0, 3.0]</td>\n",
       "      <td>(-3.0, 3.0]</td>\n",
       "      <td>(-3.0, 3.0]</td>\n",
       "      <td>(-3.0, 3.0]</td>\n",
       "      <td>(-3.0, 3.0]</td>\n",
       "      <td>...</td>\n",
       "      <td>(-3.0, 3.0]</td>\n",
       "      <td>(-3.0, 3.0]</td>\n",
       "      <td>(-3.0, 3.0]</td>\n",
       "      <td>(-3.0, 3.0]</td>\n",
       "      <td>(-3.0, 3.0]</td>\n",
       "      <td>(-3.0, 3.0]</td>\n",
       "      <td>(-3.0, 3.0]</td>\n",
       "      <td>(-3.0, 3.0]</td>\n",
       "      <td>(-3.0, 3.0]</td>\n",
       "      <td>(-3.0, 3.0]</td>\n",
       "    </tr>\n",
       "    <tr>\n",
       "      <td>3</td>\n",
       "      <td>(-3.0, 3.0]</td>\n",
       "      <td>(-3.0, 3.0]</td>\n",
       "      <td>(-3.0, 3.0]</td>\n",
       "      <td>(-3.0, 3.0]</td>\n",
       "      <td>(-3.0, 3.0]</td>\n",
       "      <td>(-3.0, 3.0]</td>\n",
       "      <td>(-3.0, 3.0]</td>\n",
       "      <td>(-3.0, 3.0]</td>\n",
       "      <td>(-3.0, 3.0]</td>\n",
       "      <td>(-3.0, 3.0]</td>\n",
       "      <td>...</td>\n",
       "      <td>(-3.0, 3.0]</td>\n",
       "      <td>(-3.0, 3.0]</td>\n",
       "      <td>(-3.0, 3.0]</td>\n",
       "      <td>(-3.0, 3.0]</td>\n",
       "      <td>(-3.0, 3.0]</td>\n",
       "      <td>(-3.0, 3.0]</td>\n",
       "      <td>(-3.0, 3.0]</td>\n",
       "      <td>(-3.0, 3.0]</td>\n",
       "      <td>(-3.0, 3.0]</td>\n",
       "      <td>(-3.0, 3.0]</td>\n",
       "    </tr>\n",
       "    <tr>\n",
       "      <td>4</td>\n",
       "      <td>(-3.0, 3.0]</td>\n",
       "      <td>(-3.0, 3.0]</td>\n",
       "      <td>(-3.0, 3.0]</td>\n",
       "      <td>(-3.0, 3.0]</td>\n",
       "      <td>(-3.0, 3.0]</td>\n",
       "      <td>(-3.0, 3.0]</td>\n",
       "      <td>(-3.0, 3.0]</td>\n",
       "      <td>(-3.0, 3.0]</td>\n",
       "      <td>(-3.0, 3.0]</td>\n",
       "      <td>(-3.0, 3.0]</td>\n",
       "      <td>...</td>\n",
       "      <td>(-3.0, 3.0]</td>\n",
       "      <td>(-3.0, 3.0]</td>\n",
       "      <td>(-3.0, 3.0]</td>\n",
       "      <td>(-3.0, 3.0]</td>\n",
       "      <td>(-3.0, 3.0]</td>\n",
       "      <td>(-3.0, 3.0]</td>\n",
       "      <td>(-3.0, 3.0]</td>\n",
       "      <td>(-3.0, 3.0]</td>\n",
       "      <td>(-3.0, 3.0]</td>\n",
       "      <td>(-3.0, 3.0]</td>\n",
       "    </tr>\n",
       "    <tr>\n",
       "      <td>...</td>\n",
       "      <td>...</td>\n",
       "      <td>...</td>\n",
       "      <td>...</td>\n",
       "      <td>...</td>\n",
       "      <td>...</td>\n",
       "      <td>...</td>\n",
       "      <td>...</td>\n",
       "      <td>...</td>\n",
       "      <td>...</td>\n",
       "      <td>...</td>\n",
       "      <td>...</td>\n",
       "      <td>...</td>\n",
       "      <td>...</td>\n",
       "      <td>...</td>\n",
       "      <td>...</td>\n",
       "      <td>...</td>\n",
       "      <td>...</td>\n",
       "      <td>...</td>\n",
       "      <td>...</td>\n",
       "      <td>...</td>\n",
       "      <td>...</td>\n",
       "    </tr>\n",
       "    <tr>\n",
       "      <td>2121</td>\n",
       "      <td>(-3.0, 3.0]</td>\n",
       "      <td>(-3.0, 3.0]</td>\n",
       "      <td>(-3.0, 3.0]</td>\n",
       "      <td>(-3.0, 3.0]</td>\n",
       "      <td>(-3.0, 3.0]</td>\n",
       "      <td>(-3.0, 3.0]</td>\n",
       "      <td>(-3.0, 3.0]</td>\n",
       "      <td>(-3.0, 3.0]</td>\n",
       "      <td>(-3.0, 3.0]</td>\n",
       "      <td>(-3.0, 3.0]</td>\n",
       "      <td>...</td>\n",
       "      <td>(-3.0, 3.0]</td>\n",
       "      <td>(-3.0, 3.0]</td>\n",
       "      <td>(-3.0, 3.0]</td>\n",
       "      <td>(-3.0, 3.0]</td>\n",
       "      <td>(-3.0, 3.0]</td>\n",
       "      <td>(-3.0, 3.0]</td>\n",
       "      <td>(-3.0, 3.0]</td>\n",
       "      <td>(-3.0, 3.0]</td>\n",
       "      <td>(-3.0, 3.0]</td>\n",
       "      <td>(-3.0, 3.0]</td>\n",
       "    </tr>\n",
       "    <tr>\n",
       "      <td>2122</td>\n",
       "      <td>(-3.0, 3.0]</td>\n",
       "      <td>(-3.0, 3.0]</td>\n",
       "      <td>(-3.0, 3.0]</td>\n",
       "      <td>(-3.0, 3.0]</td>\n",
       "      <td>(-3.0, 3.0]</td>\n",
       "      <td>(-3.0, 3.0]</td>\n",
       "      <td>(-3.0, 3.0]</td>\n",
       "      <td>(-3.0, 3.0]</td>\n",
       "      <td>(-3.0, 3.0]</td>\n",
       "      <td>(-3.0, 3.0]</td>\n",
       "      <td>...</td>\n",
       "      <td>(-3.0, 3.0]</td>\n",
       "      <td>(-3.0, 3.0]</td>\n",
       "      <td>(-3.0, 3.0]</td>\n",
       "      <td>(-3.0, 3.0]</td>\n",
       "      <td>(-3.0, 3.0]</td>\n",
       "      <td>(-3.0, 3.0]</td>\n",
       "      <td>(-3.0, 3.0]</td>\n",
       "      <td>(-3.0, 3.0]</td>\n",
       "      <td>(-3.0, 3.0]</td>\n",
       "      <td>(-3.0, 3.0]</td>\n",
       "    </tr>\n",
       "    <tr>\n",
       "      <td>2123</td>\n",
       "      <td>(-3.0, 3.0]</td>\n",
       "      <td>(-3.0, 3.0]</td>\n",
       "      <td>(-3.0, 3.0]</td>\n",
       "      <td>(-3.0, 3.0]</td>\n",
       "      <td>(-3.0, 3.0]</td>\n",
       "      <td>(-3.0, 3.0]</td>\n",
       "      <td>(-3.0, 3.0]</td>\n",
       "      <td>(-3.0, 3.0]</td>\n",
       "      <td>(-3.0, 3.0]</td>\n",
       "      <td>(-3.0, 3.0]</td>\n",
       "      <td>...</td>\n",
       "      <td>(-3.0, 3.0]</td>\n",
       "      <td>(-3.0, 3.0]</td>\n",
       "      <td>(-3.0, 3.0]</td>\n",
       "      <td>(-3.0, 3.0]</td>\n",
       "      <td>(-3.0, 3.0]</td>\n",
       "      <td>(-3.0, 3.0]</td>\n",
       "      <td>(-3.0, 3.0]</td>\n",
       "      <td>(-3.0, 3.0]</td>\n",
       "      <td>(-3.0, 3.0]</td>\n",
       "      <td>(-3.0, 3.0]</td>\n",
       "    </tr>\n",
       "    <tr>\n",
       "      <td>2124</td>\n",
       "      <td>(-3.0, 3.0]</td>\n",
       "      <td>(-3.0, 3.0]</td>\n",
       "      <td>(-3.0, 3.0]</td>\n",
       "      <td>(-3.0, 3.0]</td>\n",
       "      <td>(-3.0, 3.0]</td>\n",
       "      <td>(-3.0, 3.0]</td>\n",
       "      <td>(-3.0, 3.0]</td>\n",
       "      <td>(-3.0, 3.0]</td>\n",
       "      <td>(-3.0, 3.0]</td>\n",
       "      <td>(-3.0, 3.0]</td>\n",
       "      <td>...</td>\n",
       "      <td>(-3.0, 3.0]</td>\n",
       "      <td>(-3.0, 3.0]</td>\n",
       "      <td>(-3.0, 3.0]</td>\n",
       "      <td>(-3.0, 3.0]</td>\n",
       "      <td>(-3.0, 3.0]</td>\n",
       "      <td>(-3.0, 3.0]</td>\n",
       "      <td>(-3.0, 3.0]</td>\n",
       "      <td>(-3.0, 3.0]</td>\n",
       "      <td>(-3.0, 3.0]</td>\n",
       "      <td>(-3.0, 3.0]</td>\n",
       "    </tr>\n",
       "    <tr>\n",
       "      <td>2125</td>\n",
       "      <td>(-3.0, 3.0]</td>\n",
       "      <td>(-3.0, 3.0]</td>\n",
       "      <td>(-3.0, 3.0]</td>\n",
       "      <td>(-3.0, 3.0]</td>\n",
       "      <td>(-3.0, 3.0]</td>\n",
       "      <td>(-3.0, 3.0]</td>\n",
       "      <td>(-3.0, 3.0]</td>\n",
       "      <td>(-3.0, 3.0]</td>\n",
       "      <td>(-3.0, 3.0]</td>\n",
       "      <td>(-3.0, 3.0]</td>\n",
       "      <td>...</td>\n",
       "      <td>(-3.0, 3.0]</td>\n",
       "      <td>(-3.0, 3.0]</td>\n",
       "      <td>(-3.0, 3.0]</td>\n",
       "      <td>(-3.0, 3.0]</td>\n",
       "      <td>(-3.0, 3.0]</td>\n",
       "      <td>(-3.0, 3.0]</td>\n",
       "      <td>(-3.0, 3.0]</td>\n",
       "      <td>(-3.0, 3.0]</td>\n",
       "      <td>(-3.0, 3.0]</td>\n",
       "      <td>(-3.0, 3.0]</td>\n",
       "    </tr>\n",
       "  </tbody>\n",
       "</table>\n",
       "<p>2126 rows × 23 columns</p>\n",
       "</div>"
      ],
      "text/plain": [
       "     Bin_b_zscore Bin_e_zscore Bin_LBE_zscore Bin_LB_zscore Bin_AC_zscore  \\\n",
       "0     (-3.0, 3.0]  (-3.0, 3.0]    (-3.0, 3.0]   (-3.0, 3.0]   (-3.0, 3.0]   \n",
       "1     (-3.0, 3.0]  (-3.0, 3.0]    (-3.0, 3.0]   (-3.0, 3.0]   (-3.0, 3.0]   \n",
       "2     (-3.0, 3.0]  (-3.0, 3.0]    (-3.0, 3.0]   (-3.0, 3.0]   (-3.0, 3.0]   \n",
       "3     (-3.0, 3.0]  (-3.0, 3.0]    (-3.0, 3.0]   (-3.0, 3.0]   (-3.0, 3.0]   \n",
       "4     (-3.0, 3.0]  (-3.0, 3.0]    (-3.0, 3.0]   (-3.0, 3.0]   (-3.0, 3.0]   \n",
       "...           ...          ...            ...           ...           ...   \n",
       "2121  (-3.0, 3.0]  (-3.0, 3.0]    (-3.0, 3.0]   (-3.0, 3.0]   (-3.0, 3.0]   \n",
       "2122  (-3.0, 3.0]  (-3.0, 3.0]    (-3.0, 3.0]   (-3.0, 3.0]   (-3.0, 3.0]   \n",
       "2123  (-3.0, 3.0]  (-3.0, 3.0]    (-3.0, 3.0]   (-3.0, 3.0]   (-3.0, 3.0]   \n",
       "2124  (-3.0, 3.0]  (-3.0, 3.0]    (-3.0, 3.0]   (-3.0, 3.0]   (-3.0, 3.0]   \n",
       "2125  (-3.0, 3.0]  (-3.0, 3.0]    (-3.0, 3.0]   (-3.0, 3.0]   (-3.0, 3.0]   \n",
       "\n",
       "     Bin_FM_zscore Bin_UC_zscore Bin_ASTV_zscore Bin_MSTV_zscore  \\\n",
       "0      (-3.0, 3.0]   (-3.0, 3.0]     (-3.0, 3.0]     (-3.0, 3.0]   \n",
       "1      (-3.0, 3.0]   (-3.0, 3.0]     (-3.0, 3.0]     (-3.0, 3.0]   \n",
       "2      (-3.0, 3.0]   (-3.0, 3.0]     (-3.0, 3.0]     (-3.0, 3.0]   \n",
       "3      (-3.0, 3.0]   (-3.0, 3.0]     (-3.0, 3.0]     (-3.0, 3.0]   \n",
       "4      (-3.0, 3.0]   (-3.0, 3.0]     (-3.0, 3.0]     (-3.0, 3.0]   \n",
       "...            ...           ...             ...             ...   \n",
       "2121   (-3.0, 3.0]   (-3.0, 3.0]     (-3.0, 3.0]     (-3.0, 3.0]   \n",
       "2122   (-3.0, 3.0]   (-3.0, 3.0]     (-3.0, 3.0]     (-3.0, 3.0]   \n",
       "2123   (-3.0, 3.0]   (-3.0, 3.0]     (-3.0, 3.0]     (-3.0, 3.0]   \n",
       "2124   (-3.0, 3.0]   (-3.0, 3.0]     (-3.0, 3.0]     (-3.0, 3.0]   \n",
       "2125   (-3.0, 3.0]   (-3.0, 3.0]     (-3.0, 3.0]     (-3.0, 3.0]   \n",
       "\n",
       "     Bin_ALTV_zscore  ... Bin_DP_zscore Bin_Width_zscore Bin_Min_zscore  \\\n",
       "0        (-3.0, 3.0]  ...   (-3.0, 3.0]      (-3.0, 3.0]    (-3.0, 3.0]   \n",
       "1        (-3.0, 3.0]  ...   (-3.0, 3.0]      (-3.0, 3.0]    (-3.0, 3.0]   \n",
       "2        (-3.0, 3.0]  ...   (-3.0, 3.0]      (-3.0, 3.0]    (-3.0, 3.0]   \n",
       "3        (-3.0, 3.0]  ...   (-3.0, 3.0]      (-3.0, 3.0]    (-3.0, 3.0]   \n",
       "4        (-3.0, 3.0]  ...   (-3.0, 3.0]      (-3.0, 3.0]    (-3.0, 3.0]   \n",
       "...              ...  ...           ...              ...            ...   \n",
       "2121     (-3.0, 3.0]  ...   (-3.0, 3.0]      (-3.0, 3.0]    (-3.0, 3.0]   \n",
       "2122     (-3.0, 3.0]  ...   (-3.0, 3.0]      (-3.0, 3.0]    (-3.0, 3.0]   \n",
       "2123     (-3.0, 3.0]  ...   (-3.0, 3.0]      (-3.0, 3.0]    (-3.0, 3.0]   \n",
       "2124     (-3.0, 3.0]  ...   (-3.0, 3.0]      (-3.0, 3.0]    (-3.0, 3.0]   \n",
       "2125     (-3.0, 3.0]  ...   (-3.0, 3.0]      (-3.0, 3.0]    (-3.0, 3.0]   \n",
       "\n",
       "     Bin_Max_zscore Bin_Nmax_zscore Bin_Nzeros_zscore Bin_Mode_zscore  \\\n",
       "0       (-3.0, 3.0]     (-3.0, 3.0]       (-3.0, 3.0]     (-3.0, 3.0]   \n",
       "1       (-3.0, 3.0]     (-3.0, 3.0]       (-3.0, 3.0]     (-3.0, 3.0]   \n",
       "2       (-3.0, 3.0]     (-3.0, 3.0]       (-3.0, 3.0]     (-3.0, 3.0]   \n",
       "3       (-3.0, 3.0]     (-3.0, 3.0]       (-3.0, 3.0]     (-3.0, 3.0]   \n",
       "4       (-3.0, 3.0]     (-3.0, 3.0]       (-3.0, 3.0]     (-3.0, 3.0]   \n",
       "...             ...             ...               ...             ...   \n",
       "2121    (-3.0, 3.0]     (-3.0, 3.0]       (-3.0, 3.0]     (-3.0, 3.0]   \n",
       "2122    (-3.0, 3.0]     (-3.0, 3.0]       (-3.0, 3.0]     (-3.0, 3.0]   \n",
       "2123    (-3.0, 3.0]     (-3.0, 3.0]       (-3.0, 3.0]     (-3.0, 3.0]   \n",
       "2124    (-3.0, 3.0]     (-3.0, 3.0]       (-3.0, 3.0]     (-3.0, 3.0]   \n",
       "2125    (-3.0, 3.0]     (-3.0, 3.0]       (-3.0, 3.0]     (-3.0, 3.0]   \n",
       "\n",
       "     Bin_Mean_zscore Bin_Median_zscore Bin_Variance_zscore  \n",
       "0        (-3.0, 3.0]       (-3.0, 3.0]         (-3.0, 3.0]  \n",
       "1        (-3.0, 3.0]       (-3.0, 3.0]         (-3.0, 3.0]  \n",
       "2        (-3.0, 3.0]       (-3.0, 3.0]         (-3.0, 3.0]  \n",
       "3        (-3.0, 3.0]       (-3.0, 3.0]         (-3.0, 3.0]  \n",
       "4        (-3.0, 3.0]       (-3.0, 3.0]         (-3.0, 3.0]  \n",
       "...              ...               ...                 ...  \n",
       "2121     (-3.0, 3.0]       (-3.0, 3.0]         (-3.0, 3.0]  \n",
       "2122     (-3.0, 3.0]       (-3.0, 3.0]         (-3.0, 3.0]  \n",
       "2123     (-3.0, 3.0]       (-3.0, 3.0]         (-3.0, 3.0]  \n",
       "2124     (-3.0, 3.0]       (-3.0, 3.0]         (-3.0, 3.0]  \n",
       "2125     (-3.0, 3.0]       (-3.0, 3.0]         (-3.0, 3.0]  \n",
       "\n",
       "[2126 rows x 23 columns]"
      ]
     },
     "execution_count": 20,
     "metadata": {},
     "output_type": "execute_result"
    }
   ],
   "source": [
    "# Z vrijednosti  kategorizirane u razrede <-3 , (-3 do 3),>3\n",
    "\n",
    "bins = pd.IntervalIndex.from_tuples([(-float(\"inf\"), -3), (-3, 3), (3, float(\"inf\"))])\n",
    "\n",
    "for column in corrz:\n",
    "    kvalue = 'Bin_'+ column \n",
    "    corrz[kvalue] = (pd.cut(corrz[column], bins, labels=False))\n",
    "\n",
    "corrz_categories = corrz.iloc[:,23:]\n",
    "corrz_categories"
   ]
  },
  {
   "cell_type": "code",
   "execution_count": 21,
   "metadata": {},
   "outputs": [
    {
     "data": {
      "text/html": [
       "<div>\n",
       "<style scoped>\n",
       "    .dataframe tbody tr th:only-of-type {\n",
       "        vertical-align: middle;\n",
       "    }\n",
       "\n",
       "    .dataframe tbody tr th {\n",
       "        vertical-align: top;\n",
       "    }\n",
       "\n",
       "    .dataframe thead th {\n",
       "        text-align: right;\n",
       "    }\n",
       "</style>\n",
       "<table border=\"1\" class=\"dataframe\">\n",
       "  <thead>\n",
       "    <tr style=\"text-align: right;\">\n",
       "      <th></th>\n",
       "      <th>Cat_Bin_b_zscore</th>\n",
       "      <th>Cat_Bin_e_zscore</th>\n",
       "      <th>Cat_Bin_LBE_zscore</th>\n",
       "      <th>Cat_Bin_LB_zscore</th>\n",
       "      <th>Cat_Bin_AC_zscore</th>\n",
       "      <th>Cat_Bin_FM_zscore</th>\n",
       "      <th>Cat_Bin_UC_zscore</th>\n",
       "      <th>Cat_Bin_ASTV_zscore</th>\n",
       "      <th>Cat_Bin_MSTV_zscore</th>\n",
       "      <th>Cat_Bin_ALTV_zscore</th>\n",
       "      <th>...</th>\n",
       "      <th>Cat_Bin_DP_zscore</th>\n",
       "      <th>Cat_Bin_Width_zscore</th>\n",
       "      <th>Cat_Bin_Min_zscore</th>\n",
       "      <th>Cat_Bin_Max_zscore</th>\n",
       "      <th>Cat_Bin_Nmax_zscore</th>\n",
       "      <th>Cat_Bin_Nzeros_zscore</th>\n",
       "      <th>Cat_Bin_Mode_zscore</th>\n",
       "      <th>Cat_Bin_Mean_zscore</th>\n",
       "      <th>Cat_Bin_Median_zscore</th>\n",
       "      <th>Cat_Bin_Variance_zscore</th>\n",
       "    </tr>\n",
       "  </thead>\n",
       "  <tbody>\n",
       "    <tr>\n",
       "      <td>0</td>\n",
       "      <td>2</td>\n",
       "      <td>2</td>\n",
       "      <td>2</td>\n",
       "      <td>2</td>\n",
       "      <td>2</td>\n",
       "      <td>2</td>\n",
       "      <td>2</td>\n",
       "      <td>2</td>\n",
       "      <td>2</td>\n",
       "      <td>2</td>\n",
       "      <td>...</td>\n",
       "      <td>2</td>\n",
       "      <td>2</td>\n",
       "      <td>2</td>\n",
       "      <td>2</td>\n",
       "      <td>2</td>\n",
       "      <td>2</td>\n",
       "      <td>2</td>\n",
       "      <td>2</td>\n",
       "      <td>2</td>\n",
       "      <td>2</td>\n",
       "    </tr>\n",
       "    <tr>\n",
       "      <td>1</td>\n",
       "      <td>2</td>\n",
       "      <td>2</td>\n",
       "      <td>2</td>\n",
       "      <td>2</td>\n",
       "      <td>2</td>\n",
       "      <td>2</td>\n",
       "      <td>2</td>\n",
       "      <td>2</td>\n",
       "      <td>2</td>\n",
       "      <td>2</td>\n",
       "      <td>...</td>\n",
       "      <td>2</td>\n",
       "      <td>2</td>\n",
       "      <td>2</td>\n",
       "      <td>2</td>\n",
       "      <td>2</td>\n",
       "      <td>2</td>\n",
       "      <td>2</td>\n",
       "      <td>2</td>\n",
       "      <td>2</td>\n",
       "      <td>2</td>\n",
       "    </tr>\n",
       "    <tr>\n",
       "      <td>2</td>\n",
       "      <td>2</td>\n",
       "      <td>2</td>\n",
       "      <td>2</td>\n",
       "      <td>2</td>\n",
       "      <td>2</td>\n",
       "      <td>2</td>\n",
       "      <td>2</td>\n",
       "      <td>2</td>\n",
       "      <td>2</td>\n",
       "      <td>2</td>\n",
       "      <td>...</td>\n",
       "      <td>2</td>\n",
       "      <td>2</td>\n",
       "      <td>2</td>\n",
       "      <td>2</td>\n",
       "      <td>2</td>\n",
       "      <td>2</td>\n",
       "      <td>2</td>\n",
       "      <td>2</td>\n",
       "      <td>2</td>\n",
       "      <td>2</td>\n",
       "    </tr>\n",
       "    <tr>\n",
       "      <td>3</td>\n",
       "      <td>2</td>\n",
       "      <td>2</td>\n",
       "      <td>2</td>\n",
       "      <td>2</td>\n",
       "      <td>2</td>\n",
       "      <td>2</td>\n",
       "      <td>2</td>\n",
       "      <td>2</td>\n",
       "      <td>2</td>\n",
       "      <td>2</td>\n",
       "      <td>...</td>\n",
       "      <td>2</td>\n",
       "      <td>2</td>\n",
       "      <td>2</td>\n",
       "      <td>2</td>\n",
       "      <td>2</td>\n",
       "      <td>2</td>\n",
       "      <td>2</td>\n",
       "      <td>2</td>\n",
       "      <td>2</td>\n",
       "      <td>2</td>\n",
       "    </tr>\n",
       "    <tr>\n",
       "      <td>4</td>\n",
       "      <td>2</td>\n",
       "      <td>2</td>\n",
       "      <td>2</td>\n",
       "      <td>2</td>\n",
       "      <td>2</td>\n",
       "      <td>2</td>\n",
       "      <td>2</td>\n",
       "      <td>2</td>\n",
       "      <td>2</td>\n",
       "      <td>2</td>\n",
       "      <td>...</td>\n",
       "      <td>2</td>\n",
       "      <td>2</td>\n",
       "      <td>2</td>\n",
       "      <td>2</td>\n",
       "      <td>2</td>\n",
       "      <td>2</td>\n",
       "      <td>2</td>\n",
       "      <td>2</td>\n",
       "      <td>2</td>\n",
       "      <td>2</td>\n",
       "    </tr>\n",
       "    <tr>\n",
       "      <td>...</td>\n",
       "      <td>...</td>\n",
       "      <td>...</td>\n",
       "      <td>...</td>\n",
       "      <td>...</td>\n",
       "      <td>...</td>\n",
       "      <td>...</td>\n",
       "      <td>...</td>\n",
       "      <td>...</td>\n",
       "      <td>...</td>\n",
       "      <td>...</td>\n",
       "      <td>...</td>\n",
       "      <td>...</td>\n",
       "      <td>...</td>\n",
       "      <td>...</td>\n",
       "      <td>...</td>\n",
       "      <td>...</td>\n",
       "      <td>...</td>\n",
       "      <td>...</td>\n",
       "      <td>...</td>\n",
       "      <td>...</td>\n",
       "      <td>...</td>\n",
       "    </tr>\n",
       "    <tr>\n",
       "      <td>2121</td>\n",
       "      <td>2</td>\n",
       "      <td>2</td>\n",
       "      <td>2</td>\n",
       "      <td>2</td>\n",
       "      <td>2</td>\n",
       "      <td>2</td>\n",
       "      <td>2</td>\n",
       "      <td>2</td>\n",
       "      <td>2</td>\n",
       "      <td>2</td>\n",
       "      <td>...</td>\n",
       "      <td>2</td>\n",
       "      <td>2</td>\n",
       "      <td>2</td>\n",
       "      <td>2</td>\n",
       "      <td>2</td>\n",
       "      <td>2</td>\n",
       "      <td>2</td>\n",
       "      <td>2</td>\n",
       "      <td>2</td>\n",
       "      <td>2</td>\n",
       "    </tr>\n",
       "    <tr>\n",
       "      <td>2122</td>\n",
       "      <td>2</td>\n",
       "      <td>2</td>\n",
       "      <td>2</td>\n",
       "      <td>2</td>\n",
       "      <td>2</td>\n",
       "      <td>2</td>\n",
       "      <td>2</td>\n",
       "      <td>2</td>\n",
       "      <td>2</td>\n",
       "      <td>2</td>\n",
       "      <td>...</td>\n",
       "      <td>2</td>\n",
       "      <td>2</td>\n",
       "      <td>2</td>\n",
       "      <td>2</td>\n",
       "      <td>2</td>\n",
       "      <td>2</td>\n",
       "      <td>2</td>\n",
       "      <td>2</td>\n",
       "      <td>2</td>\n",
       "      <td>2</td>\n",
       "    </tr>\n",
       "    <tr>\n",
       "      <td>2123</td>\n",
       "      <td>2</td>\n",
       "      <td>2</td>\n",
       "      <td>2</td>\n",
       "      <td>2</td>\n",
       "      <td>2</td>\n",
       "      <td>2</td>\n",
       "      <td>2</td>\n",
       "      <td>2</td>\n",
       "      <td>2</td>\n",
       "      <td>2</td>\n",
       "      <td>...</td>\n",
       "      <td>2</td>\n",
       "      <td>2</td>\n",
       "      <td>2</td>\n",
       "      <td>2</td>\n",
       "      <td>2</td>\n",
       "      <td>2</td>\n",
       "      <td>2</td>\n",
       "      <td>2</td>\n",
       "      <td>2</td>\n",
       "      <td>2</td>\n",
       "    </tr>\n",
       "    <tr>\n",
       "      <td>2124</td>\n",
       "      <td>2</td>\n",
       "      <td>2</td>\n",
       "      <td>2</td>\n",
       "      <td>2</td>\n",
       "      <td>2</td>\n",
       "      <td>2</td>\n",
       "      <td>2</td>\n",
       "      <td>2</td>\n",
       "      <td>2</td>\n",
       "      <td>2</td>\n",
       "      <td>...</td>\n",
       "      <td>2</td>\n",
       "      <td>2</td>\n",
       "      <td>2</td>\n",
       "      <td>2</td>\n",
       "      <td>2</td>\n",
       "      <td>2</td>\n",
       "      <td>2</td>\n",
       "      <td>2</td>\n",
       "      <td>2</td>\n",
       "      <td>2</td>\n",
       "    </tr>\n",
       "    <tr>\n",
       "      <td>2125</td>\n",
       "      <td>2</td>\n",
       "      <td>2</td>\n",
       "      <td>2</td>\n",
       "      <td>2</td>\n",
       "      <td>2</td>\n",
       "      <td>2</td>\n",
       "      <td>2</td>\n",
       "      <td>2</td>\n",
       "      <td>2</td>\n",
       "      <td>2</td>\n",
       "      <td>...</td>\n",
       "      <td>2</td>\n",
       "      <td>2</td>\n",
       "      <td>2</td>\n",
       "      <td>2</td>\n",
       "      <td>2</td>\n",
       "      <td>2</td>\n",
       "      <td>2</td>\n",
       "      <td>2</td>\n",
       "      <td>2</td>\n",
       "      <td>2</td>\n",
       "    </tr>\n",
       "  </tbody>\n",
       "</table>\n",
       "<p>2126 rows × 23 columns</p>\n",
       "</div>"
      ],
      "text/plain": [
       "     Cat_Bin_b_zscore Cat_Bin_e_zscore Cat_Bin_LBE_zscore Cat_Bin_LB_zscore  \\\n",
       "0                   2                2                  2                 2   \n",
       "1                   2                2                  2                 2   \n",
       "2                   2                2                  2                 2   \n",
       "3                   2                2                  2                 2   \n",
       "4                   2                2                  2                 2   \n",
       "...               ...              ...                ...               ...   \n",
       "2121                2                2                  2                 2   \n",
       "2122                2                2                  2                 2   \n",
       "2123                2                2                  2                 2   \n",
       "2124                2                2                  2                 2   \n",
       "2125                2                2                  2                 2   \n",
       "\n",
       "     Cat_Bin_AC_zscore Cat_Bin_FM_zscore Cat_Bin_UC_zscore  \\\n",
       "0                    2                 2                 2   \n",
       "1                    2                 2                 2   \n",
       "2                    2                 2                 2   \n",
       "3                    2                 2                 2   \n",
       "4                    2                 2                 2   \n",
       "...                ...               ...               ...   \n",
       "2121                 2                 2                 2   \n",
       "2122                 2                 2                 2   \n",
       "2123                 2                 2                 2   \n",
       "2124                 2                 2                 2   \n",
       "2125                 2                 2                 2   \n",
       "\n",
       "     Cat_Bin_ASTV_zscore Cat_Bin_MSTV_zscore Cat_Bin_ALTV_zscore  ...  \\\n",
       "0                      2                   2                   2  ...   \n",
       "1                      2                   2                   2  ...   \n",
       "2                      2                   2                   2  ...   \n",
       "3                      2                   2                   2  ...   \n",
       "4                      2                   2                   2  ...   \n",
       "...                  ...                 ...                 ...  ...   \n",
       "2121                   2                   2                   2  ...   \n",
       "2122                   2                   2                   2  ...   \n",
       "2123                   2                   2                   2  ...   \n",
       "2124                   2                   2                   2  ...   \n",
       "2125                   2                   2                   2  ...   \n",
       "\n",
       "     Cat_Bin_DP_zscore Cat_Bin_Width_zscore Cat_Bin_Min_zscore  \\\n",
       "0                    2                    2                  2   \n",
       "1                    2                    2                  2   \n",
       "2                    2                    2                  2   \n",
       "3                    2                    2                  2   \n",
       "4                    2                    2                  2   \n",
       "...                ...                  ...                ...   \n",
       "2121                 2                    2                  2   \n",
       "2122                 2                    2                  2   \n",
       "2123                 2                    2                  2   \n",
       "2124                 2                    2                  2   \n",
       "2125                 2                    2                  2   \n",
       "\n",
       "     Cat_Bin_Max_zscore Cat_Bin_Nmax_zscore Cat_Bin_Nzeros_zscore  \\\n",
       "0                     2                   2                     2   \n",
       "1                     2                   2                     2   \n",
       "2                     2                   2                     2   \n",
       "3                     2                   2                     2   \n",
       "4                     2                   2                     2   \n",
       "...                 ...                 ...                   ...   \n",
       "2121                  2                   2                     2   \n",
       "2122                  2                   2                     2   \n",
       "2123                  2                   2                     2   \n",
       "2124                  2                   2                     2   \n",
       "2125                  2                   2                     2   \n",
       "\n",
       "     Cat_Bin_Mode_zscore Cat_Bin_Mean_zscore Cat_Bin_Median_zscore  \\\n",
       "0                      2                   2                     2   \n",
       "1                      2                   2                     2   \n",
       "2                      2                   2                     2   \n",
       "3                      2                   2                     2   \n",
       "4                      2                   2                     2   \n",
       "...                  ...                 ...                   ...   \n",
       "2121                   2                   2                     2   \n",
       "2122                   2                   2                     2   \n",
       "2123                   2                   2                     2   \n",
       "2124                   2                   2                     2   \n",
       "2125                   2                   2                     2   \n",
       "\n",
       "     Cat_Bin_Variance_zscore  \n",
       "0                          2  \n",
       "1                          2  \n",
       "2                          2  \n",
       "3                          2  \n",
       "4                          2  \n",
       "...                      ...  \n",
       "2121                       2  \n",
       "2122                       2  \n",
       "2123                       2  \n",
       "2124                       2  \n",
       "2125                       2  \n",
       "\n",
       "[2126 rows x 23 columns]"
      ]
     },
     "execution_count": 21,
     "metadata": {},
     "output_type": "execute_result"
    }
   ],
   "source": [
    "# dodijela kategorija intervalima\n",
    "# <-3 = 1\n",
    "# -3 do 3 = 2\n",
    "# > 3 = 3\n",
    "    \n",
    "for column in corrz_categories:\n",
    "    label = 'Cat_'+ column \n",
    "    corrz_categories[label] = corrz_categories[column].cat.rename_categories([1, 2, 3])\n",
    "    \n",
    "corrz_final = corrz_categories.iloc[:,23:]\n",
    "corrz_final"
   ]
  },
  {
   "cell_type": "code",
   "execution_count": 22,
   "metadata": {
    "scrolled": true
   },
   "outputs": [
    {
     "name": "stdout",
     "output_type": "stream",
     "text": [
      "Korelacije kategorizirane z vrijednosti s ciljnom varijablom (NSP):\n",
      "Cat_Bin_b_zscore: nan\n",
      "Cat_Bin_e_zscore: nan\n",
      "Cat_Bin_LBE_zscore: nan\n",
      "Cat_Bin_LB_zscore: nan\n",
      "Cat_Bin_AC_zscore: -0.06410108007266319\n",
      "Cat_Bin_FM_zscore: 0.08027612097246352\n",
      "Cat_Bin_UC_zscore: 0.049544898394773836\n",
      "Cat_Bin_ASTV_zscore: nan\n",
      "Cat_Bin_MSTV_zscore: 0.005929620379314013\n",
      "Cat_Bin_ALTV_zscore: 0.3731672962787071\n",
      "Cat_Bin_MLTV_zscore: -0.04362860242725712\n",
      "Cat_Bin_DL_zscore: 0.08382229612361033\n",
      "Cat_Bin_DS_zscore: 0.13193412558923587\n",
      "Cat_Bin_DP_zscore: 0.49264701625610946\n",
      "Cat_Bin_Width_zscore: nan\n",
      "Cat_Bin_Min_zscore: nan\n",
      "Cat_Bin_Max_zscore: -0.02140310847106839\n",
      "Cat_Bin_Nmax_zscore: 0.04245648203918763\n",
      "Cat_Bin_Nzeros_zscore: 0.016650716191911715\n",
      "Cat_Bin_Mode_zscore: -0.35769460131531505\n",
      "Cat_Bin_Mean_zscore: -0.2972092365256565\n",
      "Cat_Bin_Median_zscore: -0.2065370240998803\n",
      "Cat_Bin_Variance_zscore: 0.25071248062564744\n"
     ]
    }
   ],
   "source": [
    "print(\"Korelacije kategorizirane z vrijednosti s ciljnom varijablom (NSP):\")\n",
    "for column in corrz_final:\n",
    "    print(column + ': ' + str(corrz_final[column].corr(corrdata['NSP'])))"
   ]
  },
  {
   "cell_type": "markdown",
   "metadata": {},
   "source": [
    "U rezultatima iznad se vidi da neke korelacije nisu izračunate tj. vrijednost je \"nan\" (Not A Number). To se dogodilo zato što te varijable ne sadrže vrijednosti koje se razlikuju 3 ili više standardnih odstupanja od srednje vrijednosti.\n",
    "\n",
    "Varijabla DP_zscore ima značajnu povezanost s ciljnom varijablom.\n",
    "\n",
    "Varijable ALTV_zscore, Mode_zscore, Mean_zscore, Median_zscore i Variance_zscore imaju laganu povezanost s ciljnom varijablom."
   ]
  },
  {
   "cell_type": "markdown",
   "metadata": {},
   "source": [
    "## 3. IV, WoE izračuni"
   ]
  },
  {
   "cell_type": "code",
   "execution_count": 23,
   "metadata": {},
   "outputs": [],
   "source": [
    "# kopiranje originalnog dataset-a\n",
    "df1 = df.copy()\n",
    "\n",
    "del df1[\"FileName\"]\n",
    "del df1[\"Date\"]\n",
    "del df1[\"SegFile\"]\n",
    "del df1[\"DR\"] #uvijek je 0\n",
    "\n",
    "# kontinuirane varijable koje je potrebno kategorizirati\n",
    "# ['b', 'e', 'LBE', 'LB', 'AC', 'FM', 'UC', 'ASTV', 'MSTV', 'ALTV', 'MLTV', 'DL', 'DS', 'DP', 'DR', 'Width', 'Min', 'Max', 'Nmax', 'Nzeros', 'Mode', 'Mean', 'Median', 'Variance']\n",
    "\n",
    "df1['b'] = pd.qcut(df1['b'], 5,)\n",
    "df1['e'] = pd.qcut(df1['e'], 5,)\n",
    "df1['LBE'] = pd.qcut(df1['LBE'], 5)\n",
    "df1['LB'] = pd.qcut(df1['LB'], 5)\n",
    "df1['AC'] = pd.qcut(df1['AC'], 5, duplicates='drop')\n",
    "df1['FM'] = pd.qcut(df1['FM'], 5,duplicates='drop')\n",
    "df1['UC'] = pd.qcut(df1['UC'], 5)\n",
    "df1['ASTV'] = pd.qcut(df1['ASTV'], 5)\n",
    "df1['MSTV'] = pd.qcut(df1['MSTV'], 5)\n",
    "df1['ALTV'] = pd.qcut(df1['ALTV'], 5, duplicates='drop')\n",
    "df1['MLTV'] = pd.qcut(df1['MLTV'], 5)\n",
    "df1['DL'] = pd.qcut(df1['DL'], 5, duplicates='drop')\n",
    "df1['DS'] = pd.qcut(df1['DS'], 5, duplicates='drop')\n",
    "df1['DP'] = pd.qcut(df1['DP'], 5, duplicates='drop')\n",
    "df1['Width'] = pd.qcut(df1['Width'], 5)\n",
    "df1['Min'] = pd.qcut(df1['Min'], 5)\n",
    "df1['Max'] = pd.qcut(df1['Max'], 5)\n",
    "df1['Nmax'] = pd.qcut(df1['Nmax'], 5)\n",
    "df1['Nzeros'] = pd.qcut(df1['Nzeros'], 5, duplicates='drop')\n",
    "df1['Mode'] = pd.qcut(df1['Mode'], 5)\n",
    "df1['Mean'] = pd.qcut(df1['Mean'], 5)\n",
    "df1['Median'] = pd.qcut(df1['Median'], 5)\n",
    "df1['Variance'] = pd.qcut(df1['Variance'], 5)\n",
    "\n",
    "# Ciljna varijabla se pretvara u: normalno stanje = 0, sumnjivo i bolest = 1\n",
    "df1.NSP.replace([1, 2, 3], [0, 1, 1], inplace=True)"
   ]
  },
  {
   "cell_type": "code",
   "execution_count": 24,
   "metadata": {},
   "outputs": [],
   "source": [
    "# Funkcija za računanje woe i iv - preuzeto s https://towardsdatascience.com/attribute-relevance-analysis-in-python-iv-and-woe-b5651443fc04\n",
    "def calculate_woe_iv(dataset, feature, target):\n",
    "    lst = []\n",
    "    for i in range(dataset[feature].nunique()):\n",
    "        val = list(dataset[feature].unique())[i]\n",
    "        lst.append({\n",
    "            'Value': val,\n",
    "            'All': dataset[dataset[feature] == val].count()[feature],\n",
    "            'Good': dataset[(dataset[feature] == val) & (dataset[target] == 0)].count()[feature],\n",
    "            'Bad': dataset[(dataset[feature] == val) & (dataset[target] == 1)].count()[feature]\n",
    "        })\n",
    "        \n",
    "    dset = pd.DataFrame(lst)\n",
    "    dset['Distr_Good'] = dset['Good'] / dset['Good'].sum()\n",
    "    dset['Distr_Bad'] = dset['Bad'] / dset['Bad'].sum()\n",
    "    dset['WoE'] = np.log(dset['Distr_Good'] / dset['Distr_Bad'])\n",
    "    dset = dset.replace({'WoE': {np.inf: 0, -np.inf: 0}})\n",
    "    dset['IV'] = (dset['Distr_Good'] - dset['Distr_Bad']) * dset['WoE']\n",
    "    iv = dset['IV'].sum()\n",
    "    \n",
    "    dset = dset.sort_values(by='WoE')\n",
    "    \n",
    "    return dset, iv"
   ]
  },
  {
   "cell_type": "code",
   "execution_count": 25,
   "metadata": {},
   "outputs": [
    {
     "name": "stdout",
     "output_type": "stream",
     "text": [
      "WoE and IV for column: b\n",
      "              Value  All  Good  Bad  Distr_Good  Distr_Bad       WoE        IV\n",
      "0     (19.0, 357.0]  423   291  132    0.175831   0.280255 -0.466177  0.048680\n",
      "1    (-0.001, 19.0]  430   312  118    0.188520   0.250531 -0.284380  0.017635\n",
      "2    (357.0, 837.0]  423   325   98    0.196375   0.208068 -0.057840  0.000676\n",
      "3   (837.0, 1762.0]  426   356   70    0.215106   0.148620  0.369737  0.024582\n",
      "4  (1762.0, 3296.0]  424   371   53    0.224169   0.112527  0.689212  0.076945\n",
      "IV score: 0.17\n",
      "\n",
      "\n",
      "WoE and IV for column: e\n",
      "              Value  All  Good  Bad  Distr_Good  Distr_Bad       WoE        IV\n",
      "0  (286.999, 910.0]  429   297  132    0.179456   0.280255 -0.445768  0.044933\n",
      "1   (910.0, 1192.0]  434   308  126    0.186103   0.267516 -0.362880  0.029543\n",
      "2  (1192.0, 1701.0]  413   321   92    0.193958   0.195329 -0.007046  0.000010\n",
      "3  (1701.0, 2674.0]  428   361   67    0.218127   0.142251  0.427487  0.032436\n",
      "4  (2674.0, 3599.0]  422   368   54    0.222356   0.114650  0.662401  0.071345\n",
      "IV score: 0.18\n",
      "\n",
      "\n",
      "WoE and IV for column: LBE\n",
      "              Value  All  Good  Bad  Distr_Good  Distr_Bad       WoE        IV\n",
      "2    (142.0, 160.0]  412   230  182    0.138973   0.386412 -1.022626  0.253038\n",
      "4    (136.0, 142.0]  387   296   91    0.178852   0.193206 -0.077198  0.001108\n",
      "1    (130.0, 136.0]  472   387   85    0.233837   0.180467  0.259075  0.013827\n",
      "3    (125.0, 130.0]  351   295   56    0.178248   0.118896  0.404925  0.024033\n",
      "0  (105.999, 125.0]  504   447   57    0.270091   0.121019  0.802809  0.119676\n",
      "IV score: 0.41\n",
      "\n",
      "\n",
      "WoE and IV for column: LB\n",
      "              Value  All  Good  Bad  Distr_Good  Distr_Bad       WoE        IV\n",
      "2    (142.0, 160.0]  412   230  182    0.138973   0.386412 -1.022626  0.253038\n",
      "4    (136.0, 142.0]  387   296   91    0.178852   0.193206 -0.077198  0.001108\n",
      "1    (130.0, 136.0]  472   387   85    0.233837   0.180467  0.259075  0.013827\n",
      "3    (125.0, 130.0]  351   295   56    0.178248   0.118896  0.404925  0.024033\n",
      "0  (105.999, 125.0]  504   447   57    0.270091   0.121019  0.802809  0.119676\n",
      "IV score: 0.41\n",
      "\n",
      "\n",
      "WoE and IV for column: AC\n",
      "           Value   All  Good  Bad  Distr_Good  Distr_Bad       WoE        IV\n",
      "0  (-0.001, 2.0]  1297   839  458    0.506949   0.972399 -0.651357  0.303174\n",
      "1     (2.0, 5.0]   420   408   12    0.246526   0.025478  2.269662  0.501704\n",
      "2    (5.0, 26.0]   409   408    1    0.246526   0.002123  4.754569  1.162029\n",
      "IV score: 1.97\n",
      "\n",
      "\n",
      "WoE and IV for column: FM\n",
      "           Value   All  Good  Bad  Distr_Good  Distr_Bad       WoE        IV\n",
      "1   (3.0, 564.0]   403   298  105     0.18006    0.22293 -0.213565  0.009155\n",
      "0  (-0.001, 3.0]  1723  1357  366     0.81994    0.77707  0.053700  0.002302\n",
      "IV score: 0.01\n",
      "\n",
      "\n",
      "WoE and IV for column: UC\n",
      "           Value  All  Good  Bad  Distr_Good  Distr_Bad       WoE        IV\n",
      "0  (-0.001, 1.0]  570   320  250    0.193353   0.530786 -1.009838  0.340752\n",
      "3    (6.0, 23.0]  320   268   52    0.161934   0.110403  0.383045  0.019738\n",
      "4     (1.0, 3.0]  530   454   76    0.274320   0.161359  0.530666  0.059945\n",
      "2     (4.0, 6.0]  434   375   59    0.226586   0.125265  0.592690  0.060052\n",
      "1     (3.0, 4.0]  272   238   34    0.143807   0.072187  0.689212  0.049361\n",
      "IV score: 0.53\n",
      "\n",
      "\n",
      "WoE and IV for column: ASTV\n",
      "            Value  All  Good  Bad  Distr_Good  Distr_Bad       WoE        IV\n",
      "0    (63.0, 87.0]  398   149  249    0.090030   0.528662 -1.770205  0.776469\n",
      "4    (55.0, 63.0]  416   274  142    0.165559   0.301486 -0.599397  0.081474\n",
      "3    (41.0, 55.0]  437   393   44    0.237462   0.093418  0.932922  0.134382\n",
      "2    (29.0, 41.0]  423   402   21    0.242900   0.044586  1.695231  0.336189\n",
      "1  (11.999, 29.0]  452   437   15    0.264048   0.031847  2.115185  0.491148\n",
      "IV score: 1.82\n",
      "\n",
      "\n",
      "WoE and IV for column: MSTV\n",
      "          Value  All  Good  Bad  Distr_Good  Distr_Bad       WoE        IV\n",
      "0  (0.199, 0.6]  485   192  293    0.116012   0.622081 -1.679375  0.849879\n",
      "1    (1.9, 7.0]  399   312   87    0.188520   0.184713  0.020397  0.000078\n",
      "4    (0.6, 1.0]  455   418   37    0.252568   0.078556  1.167865  0.203222\n",
      "2    (1.4, 1.9]  367   340   27    0.205438   0.057325  1.276411  0.189053\n",
      "3    (1.0, 1.4]  420   393   27    0.237462   0.057325  1.421275  0.256025\n",
      "IV score: 1.50\n",
      "\n",
      "\n",
      "WoE and IV for column: ALTV\n",
      "           Value   All  Good  Bad  Distr_Good  Distr_Bad       WoE        IV\n",
      "0   (16.0, 91.0]   422   168  254    0.101511   0.539278 -1.670068  0.731102\n",
      "2    (1.0, 16.0]   412   330   82    0.199396   0.174098  0.135675  0.003432\n",
      "1  (-0.001, 1.0]  1292  1157  135    0.699094   0.286624  0.891613  0.367763\n",
      "IV score: 1.10\n",
      "\n",
      "\n",
      "WoE and IV for column: MLTV\n",
      "           Value  All  Good  Bad  Distr_Good  Distr_Bad       WoE        IV\n",
      "3     (3.9, 6.5]  435   311  124    0.187915   0.263270 -0.337187  0.025408\n",
      "0  (-0.001, 3.9]  436   314  122    0.189728   0.259023 -0.311326  0.021573\n",
      "4     (6.5, 8.6]  412   298  114    0.180060   0.242038 -0.295803  0.018333\n",
      "1    (8.6, 12.0]  418   349   69    0.210876   0.146497  0.364267  0.023451\n",
      "2   (12.0, 50.7]  425   383   42    0.231420   0.089172  0.953667  0.135657\n",
      "IV score: 0.22\n",
      "\n",
      "\n",
      "WoE and IV for column: DL\n",
      "           Value   All  Good  Bad  Distr_Good  Distr_Bad       WoE        IV\n",
      "0  (-0.001, 1.0]  1463  1105  358    0.667674   0.760085 -0.129631  0.011979\n",
      "2    (3.0, 16.0]   424   346   78    0.209063   0.165605  0.233032  0.010127\n",
      "1     (1.0, 3.0]   239   204   35    0.123263   0.074310  0.506074  0.024774\n",
      "IV score: 0.05\n",
      "\n",
      "\n",
      "WoE and IV for column: DS\n",
      "           Value   All  Good  Bad  Distr_Good  Distr_Bad  WoE   IV\n",
      "0  (-0.001, 1.0]  2126  1655  471         1.0        1.0  0.0  0.0\n",
      "IV score: 0.00\n",
      "\n",
      "\n",
      "WoE and IV for column: DP\n",
      "           Value   All  Good  Bad  Distr_Good  Distr_Bad  WoE   IV\n",
      "0  (-0.001, 4.0]  2126  1655  471         1.0        1.0  0.0  0.0\n",
      "IV score: 0.00\n",
      "\n",
      "\n",
      "WoE and IV for column: Width\n",
      "            Value  All  Good  Bad  Distr_Good  Distr_Bad       WoE        IV\n",
      "3   (2.999, 32.0]  442   238  204    0.143807   0.433121 -1.102548  0.318983\n",
      "1  (107.0, 180.0]  407   316   91    0.190937   0.193206 -0.011815  0.000027\n",
      "2   (82.0, 107.0]  443   372   71    0.224773   0.150743  0.399516  0.029576\n",
      "4    (32.0, 53.0]  420   367   53    0.221752   0.112527  0.678372  0.074096\n",
      "0    (53.0, 82.0]  414   362   52    0.218731   0.110403  0.683702  0.074064\n",
      "IV score: 0.50\n",
      "\n",
      "\n",
      "WoE and IV for column: Min\n",
      "            Value  All  Good  Bad  Distr_Good  Distr_Bad       WoE        IV\n",
      "4  (124.0, 159.0]  413   210  203    0.126888   0.430998 -1.222797  0.371864\n",
      "0  (49.999, 63.0]  447   329  118    0.198792   0.250531 -0.231325  0.011969\n",
      "1    (63.0, 79.0]  404   342   62    0.206647   0.131635  0.450978  0.033829\n",
      "3  (105.0, 124.0]  432   375   57    0.226586   0.121019  0.627177  0.066209\n",
      "2   (79.0, 105.0]  430   399   31    0.241088   0.065817  1.298276  0.227549\n",
      "IV score: 0.71\n",
      "\n",
      "\n",
      "WoE and IV for column: Max\n",
      "              Value  All  Good  Bad  Distr_Good  Distr_Bad       WoE        IV\n",
      "3    (149.0, 158.0]  478   348  130    0.210272   0.276008 -0.272030  0.017882\n",
      "4    (158.0, 167.0]  380   282   98    0.170393   0.208068 -0.199759  0.007526\n",
      "0  (121.999, 149.0]  431   330  101    0.199396   0.214437 -0.072726  0.001094\n",
      "1    (178.0, 238.0]  410   315   95    0.190332   0.201699 -0.058002  0.000659\n",
      "2    (167.0, 178.0]  427   380   47    0.229607   0.099788  0.833325  0.108182\n",
      "IV score: 0.14\n",
      "\n",
      "\n",
      "WoE and IV for column: Nmax\n",
      "           Value  All  Good  Bad  Distr_Good  Distr_Bad       WoE        IV\n",
      "3  (-0.001, 1.0]  464   310  154    0.187311   0.326964 -0.557078  0.077798\n",
      "2    (7.0, 18.0]  291   221   70    0.133535   0.148620 -0.107031  0.001615\n",
      "4     (3.0, 4.0]  258   209   49    0.126284   0.104034  0.193816  0.004312\n",
      "0     (1.0, 3.0]  600   487  113    0.294260   0.239915  0.204178  0.011096\n",
      "1     (4.0, 7.0]  513   428   85    0.258610   0.180467  0.359774  0.028114\n",
      "IV score: 0.12\n",
      "\n",
      "\n",
      "WoE and IV for column: Nzeros\n",
      "           Value   All  Good  Bad  Distr_Good  Distr_Bad       WoE        IV\n",
      "0  (-0.001, 1.0]  1990  1544  446    0.932931   0.946921 -0.014885  0.000208\n",
      "1    (1.0, 10.0]   136   111   25    0.067069   0.053079  0.233956  0.003273\n",
      "IV score: 0.00\n",
      "\n",
      "\n",
      "WoE and IV for column: Mode\n",
      "             Value  All  Good  Bad  Distr_Good  Distr_Bad       WoE        IV\n",
      "4   (150.0, 187.0]  381   266  115    0.160725   0.244161 -0.418134  0.034888\n",
      "0  (59.999, 126.0]  464   334  130    0.201813   0.276008 -0.313092  0.023230\n",
      "2   (143.0, 150.0]  416   310  106    0.187311   0.225053 -0.183565  0.006928\n",
      "1   (135.0, 143.0]  458   384   74    0.232024   0.157113  0.389879  0.029206\n",
      "3   (126.0, 135.0]  407   361   46    0.218127   0.097665  0.803538  0.096796\n",
      "IV score: 0.19\n"
     ]
    },
    {
     "name": "stdout",
     "output_type": "stream",
     "text": [
      "\n",
      "\n",
      "WoE and IV for column: Mean\n",
      "             Value  All  Good  Bad  Distr_Good  Distr_Bad       WoE        IV\n",
      "2   (147.0, 182.0]  420   275  145    0.166163   0.307856 -0.616661  0.087376\n",
      "1  (72.999, 123.0]  453   326  127    0.196979   0.269639 -0.313988  0.022814\n",
      "4   (140.0, 147.0]  407   307  100    0.185498   0.212314 -0.135021  0.003621\n",
      "0   (132.0, 140.0]  431   372   59    0.224773   0.125265  0.584658  0.058178\n",
      "3   (123.0, 132.0]  415   375   40    0.226586   0.084926  0.981348  0.139018\n",
      "IV score: 0.31\n",
      "\n",
      "\n",
      "WoE and IV for column: Median\n",
      "             Value  All  Good  Bad  Distr_Good  Distr_Bad       WoE        IV\n",
      "2   (150.0, 186.0]  410   272  138    0.164350   0.292994 -0.578150  0.074375\n",
      "0  (76.999, 126.0]  442   307  135    0.185498   0.286624 -0.435125  0.044002\n",
      "4   (143.0, 150.0]  400   309   91    0.186707   0.193206 -0.034216  0.000222\n",
      "1   (136.0, 143.0]  418   354   64    0.213897   0.135881  0.453716  0.035397\n",
      "3   (126.0, 136.0]  456   413   43    0.249547   0.091295  1.005549  0.159130\n",
      "IV score: 0.31\n",
      "\n",
      "\n",
      "WoE and IV for column: Variance\n",
      "           Value  All  Good  Bad  Distr_Good  Distr_Bad       WoE        IV\n",
      "4  (-0.001, 1.0]  435   216  219    0.130514   0.464968 -1.270492  0.424922\n",
      "0  (30.0, 269.0]  413   299  114    0.180665   0.242038 -0.292453  0.017949\n",
      "3     (1.0, 4.0]  435   355   80    0.214502   0.169851  0.233393  0.010421\n",
      "2    (4.0, 11.0]  413   376   37    0.227190   0.078556  1.061973  0.157845\n",
      "1   (11.0, 30.0]  430   409   21    0.247130   0.044586  1.712495  0.346855\n",
      "IV score: 0.96\n",
      "\n",
      "\n",
      "WoE and IV for column: Tendency\n",
      "   Value   All  Good  Bad  Distr_Good  Distr_Bad       WoE        IV\n",
      "2     -1   165   101   64    0.061027   0.135881 -0.800461  0.059918\n",
      "0      1   846   667  179    0.403021   0.380042  0.058706  0.001349\n",
      "1      0  1115   887  228    0.535952   0.484076  0.101801  0.005281\n",
      "IV score: 0.07\n",
      "\n",
      "\n",
      "WoE and IV for column: A\n",
      "   Value   All  Good  Bad  Distr_Good  Distr_Bad       WoE        IV\n",
      "0      0  1742  1273  469    0.769184   0.995754 -0.258169  0.058493\n",
      "1      1   384   382    2    0.230816   0.004246  3.995575  0.905275\n",
      "IV score: 0.96\n",
      "\n",
      "\n",
      "WoE and IV for column: B\n",
      "   Value   All  Good  Bad  Distr_Good  Distr_Bad       WoE        IV\n",
      "0      0  1547  1076  471    0.650151        1.0 -0.430551  0.150628\n",
      "1      1   579   579    0    0.349849        0.0  0.000000  0.000000\n",
      "IV score: 0.15\n",
      "\n",
      "\n",
      "WoE and IV for column: C\n",
      "   Value   All  Good  Bad  Distr_Good  Distr_Bad       WoE        IV\n",
      "0      0  2073  1602  471    0.967976        1.0 -0.032548  0.001042\n",
      "1      1    53    53    0    0.032024        0.0  0.000000  0.000000\n",
      "IV score: 0.00\n",
      "\n",
      "\n",
      "WoE and IV for column: D\n",
      "   Value   All  Good  Bad  Distr_Good  Distr_Bad       WoE        IV\n",
      "0      0  2045  1574  471    0.951057        1.0 -0.050181  0.002456\n",
      "1      1    81    81    0    0.048943        0.0  0.000000  0.000000\n",
      "IV score: 0.00\n",
      "\n",
      "\n",
      "WoE and IV for column: E\n",
      "   Value   All  Good  Bad  Distr_Good  Distr_Bad       WoE        IV\n",
      "1      1    72     3   69    0.001813   0.146497 -4.392192  0.635481\n",
      "0      0  2054  1652  402    0.998187   0.853503  0.156592  0.022656\n",
      "IV score: 0.66\n",
      "\n",
      "\n",
      "WoE and IV for column: AD\n",
      "   Value   All  Good  Bad  Distr_Good  Distr_Bad       WoE        IV\n",
      "0      0  1794  1325  469    0.800604   0.995754 -0.218133  0.042569\n",
      "1      1   332   330    2    0.199396   0.004246  3.849247  0.751179\n",
      "IV score: 0.79\n",
      "\n",
      "\n",
      "WoE and IV for column: DE\n",
      "   Value   All  Good  Bad  Distr_Good  Distr_Bad       WoE        IV\n",
      "0      0  1874  1428  446     0.86284   0.946921 -0.092987  0.007818\n",
      "1      1   252   227   25     0.13716   0.053079  0.949376  0.079825\n",
      "IV score: 0.09\n",
      "\n",
      "\n",
      "WoE and IV for column: LD\n",
      "   Value   All  Good  Bad  Distr_Good  Distr_Bad       WoE        IV\n",
      "1      1   107     0  107         0.0   0.227176  0.000000 -0.000000\n",
      "0      0  2019  1655  364         1.0   0.772824  0.257704  0.058544\n",
      "IV score: 0.06\n",
      "\n",
      "\n",
      "WoE and IV for column: FS\n",
      "   Value   All  Good  Bad  Distr_Good  Distr_Bad       WoE        IV\n",
      "0      1    69     0   69         0.0   0.146497  0.000000 -0.000000\n",
      "1      0  2057  1655  402         1.0   0.853503  0.158406  0.023206\n",
      "IV score: 0.02\n",
      "\n",
      "\n",
      "WoE and IV for column: SUSP\n",
      "   Value   All  Good  Bad  Distr_Good  Distr_Bad      WoE        IV\n",
      "1      1   197     0  197         0.0   0.418259  0.00000 -0.000000\n",
      "0      0  1929  1655  274         1.0   0.581741  0.54173  0.226583\n",
      "IV score: 0.23\n",
      "\n",
      "\n",
      "WoE and IV for column: CLASS\n",
      "   Value  All  Good  Bad  Distr_Good  Distr_Bad       WoE        IV\n",
      "8      5   72     3   69    0.001813   0.146497 -4.392192  0.635481\n",
      "0      9   69     0   69    0.000000   0.146497  0.000000 -0.000000\n",
      "2      2  579   579    0    0.349849   0.000000  0.000000  0.000000\n",
      "3      8  107     0  107    0.000000   0.227176  0.000000 -0.000000\n",
      "4     10  197     0  197    0.000000   0.418259  0.000000 -0.000000\n",
      "7      3   53    53    0    0.032024   0.000000  0.000000  0.000000\n",
      "9      4   81    81    0    0.048943   0.000000  0.000000  0.000000\n",
      "5      7  252   227   25    0.137160   0.053079  0.949376  0.079825\n",
      "1      6  332   330    2    0.199396   0.004246  3.849247  0.751179\n",
      "6      1  384   382    2    0.230816   0.004246  3.995575  0.905275\n",
      "IV score: 2.37\n",
      "\n",
      "\n"
     ]
    },
    {
     "name": "stderr",
     "output_type": "stream",
     "text": [
      "C:\\Users\\marin\\AppData\\Local\\Continuum\\anaconda3\\lib\\site-packages\\pandas\\core\\series.py:853: RuntimeWarning: divide by zero encountered in log\n",
      "  result = getattr(ufunc, method)(*inputs, **kwargs)\n"
     ]
    }
   ],
   "source": [
    "for col in df1:\n",
    "    if col == 'NSP': continue\n",
    "    else:\n",
    "        print('WoE and IV for column: {}'.format(col))\n",
    "        df2, iv = calculate_woe_iv(df1, col, 'NSP')\n",
    "        print(df2)\n",
    "        print('IV score: {:.2f}'.format(iv))\n",
    "        print('\\n')"
   ]
  },
  {
   "cell_type": "markdown",
   "metadata": {},
   "source": [
    "Interpretacija IV score vrijednosti:\n",
    "\n",
    "<0.02 - Beskorisno za predikciju\n",
    "\n",
    "0.02 - 0.1 - Slab prediktor\n",
    "\n",
    "0.1 - 0.3 - Osrednji prediktor\n",
    "\n",
    "0.3 - 0.5 - Jak predikrtor\n",
    "\n",
    "\\> 0.5 - Sumnjivo ili predobro da bi bilo istinito "
   ]
  },
  {
   "cell_type": "markdown",
   "metadata": {},
   "source": [
    "Iz podataka iznad možemo zaključiti da su prema IV score varijable b, e, LBE, LB, UC, MLTV, Width, Max, Nmax, Mode, Mean, Median, B i SUSP \"jaki\" prediktori."
   ]
  },
  {
   "cell_type": "code",
   "execution_count": 26,
   "metadata": {},
   "outputs": [
    {
     "data": {
      "image/png": "[encoded data removed]",
      "text/plain": [
       "<Figure size 432x288 with 1 Axes>"
      ]
     },
     "metadata": {
      "needs_background": "light"
     },
     "output_type": "display_data"
    },
    {
     "data": {
      "image/png": "[encoded data removed]",
      "text/plain": [
       "<Figure size 432x288 with 1 Axes>"
      ]
     },
     "metadata": {
      "needs_background": "light"
     },
     "output_type": "display_data"
    },
    {
     "data": {
      "image/png": "[encoded data removed]",
      "text/plain": [
       "<Figure size 432x288 with 1 Axes>"
      ]
     },
     "metadata": {
      "needs_background": "light"
     },
     "output_type": "display_data"
    },
    {
     "data": {
      "image/png": "[encoded data removed]",
      "text/plain": [
       "<Figure size 432x288 with 1 Axes>"
      ]
     },
     "metadata": {
      "needs_background": "light"
     },
     "output_type": "display_data"
    },
    {
     "data": {
      "image/png": "[encoded data removed]",
      "text/plain": [
       "<Figure size 432x288 with 1 Axes>"
      ]
     },
     "metadata": {
      "needs_background": "light"
     },
     "output_type": "display_data"
    },
    {
     "data": {
      "image/png": "[encoded data removed]",
      "text/plain": [
       "<Figure size 432x288 with 1 Axes>"
      ]
     },
     "metadata": {
      "needs_background": "light"
     },
     "output_type": "display_data"
    },
    {
     "data": {
      "image/png": "[encoded data removed]",
      "text/plain": [
       "<Figure size 432x288 with 1 Axes>"
      ]
     },
     "metadata": {
      "needs_background": "light"
     },
     "output_type": "display_data"
    },
    {
     "data": {
      "image/png": "[encoded data removed]",
      "text/plain": [
       "<Figure size 432x288 with 1 Axes>"
      ]
     },
     "metadata": {
      "needs_background": "light"
     },
     "output_type": "display_data"
    },
    {
     "data": {
      "image/png": "[encoded data removed]",
      "text/plain": [
       "<Figure size 432x288 with 1 Axes>"
      ]
     },
     "metadata": {
      "needs_background": "light"
     },
     "output_type": "display_data"
    },
    {
     "data": {
      "image/png": "[encoded data removed]",
      "text/plain": [
       "<Figure size 432x288 with 1 Axes>"
      ]
     },
     "metadata": {
      "needs_background": "light"
     },
     "output_type": "display_data"
    },
    {
     "data": {
      "image/png": "[encoded data removed]",
      "text/plain": [
       "<Figure size 432x288 with 1 Axes>"
      ]
     },
     "metadata": {
      "needs_background": "light"
     },
     "output_type": "display_data"
    },
    {
     "data": {
      "image/png": "[encoded data removed]",
      "text/plain": [
       "<Figure size 432x288 with 1 Axes>"
      ]
     },
     "metadata": {
      "needs_background": "light"
     },
     "output_type": "display_data"
    },
    {
     "data": {
      "image/png": "[encoded data removed]",
      "text/plain": [
       "<Figure size 432x288 with 1 Axes>"
      ]
     },
     "metadata": {
      "needs_background": "light"
     },
     "output_type": "display_data"
    },
    {
     "data": {
      "image/png": "[encoded data removed]",
      "text/plain": [
       "<Figure size 432x288 with 1 Axes>"
      ]
     },
     "metadata": {
      "needs_background": "light"
     },
     "output_type": "display_data"
    }
   ],
   "source": [
    "# grafički prikaz WoE za najjače varijable:\n",
    "\n",
    "woe_list = ['b', 'e', 'LBE', 'LB', 'UC', 'MLTV', 'Width', 'Max', 'Nmax', 'Mode', 'Mean', 'Median', 'B', 'SUSP']\n",
    "\n",
    "for col in woe_list:\n",
    "    df3, iv = calculate_woe_iv(df1, col, 'NSP')\n",
    "    plt.figure()\n",
    "    sns.barplot(x=\"Value\", y=\"WoE\", palette=\"viridis\", data=df3).set_title(col)"
   ]
  },
  {
   "cell_type": "markdown",
   "metadata": {},
   "source": [
    "Za varijablu MLTV možemo uočiti da dvije kategorije [3.9, 6.5] i [-0.001, 3.9] imaju slične WoE vrijednosti što znači da ih možemo grupirati u isti razred."
   ]
  },
  {
   "cell_type": "code",
   "execution_count": 27,
   "metadata": {},
   "outputs": [
    {
     "data": {
      "text/html": [
       "<div>\n",
       "<style scoped>\n",
       "    .dataframe tbody tr th:only-of-type {\n",
       "        vertical-align: middle;\n",
       "    }\n",
       "\n",
       "    .dataframe tbody tr th {\n",
       "        vertical-align: top;\n",
       "    }\n",
       "\n",
       "    .dataframe thead th {\n",
       "        text-align: right;\n",
       "    }\n",
       "</style>\n",
       "<table border=\"1\" class=\"dataframe\">\n",
       "  <thead>\n",
       "    <tr style=\"text-align: right;\">\n",
       "      <th></th>\n",
       "      <th>Value</th>\n",
       "      <th>All</th>\n",
       "      <th>Good</th>\n",
       "      <th>Bad</th>\n",
       "      <th>Distr_Good</th>\n",
       "      <th>Distr_Bad</th>\n",
       "      <th>WoE</th>\n",
       "      <th>IV</th>\n",
       "    </tr>\n",
       "  </thead>\n",
       "  <tbody>\n",
       "    <tr>\n",
       "      <td>3</td>\n",
       "      <td>(3.9, 6.5]</td>\n",
       "      <td>435</td>\n",
       "      <td>311</td>\n",
       "      <td>124</td>\n",
       "      <td>0.187915</td>\n",
       "      <td>0.263270</td>\n",
       "      <td>-0.337187</td>\n",
       "      <td>0.025408</td>\n",
       "    </tr>\n",
       "    <tr>\n",
       "      <td>0</td>\n",
       "      <td>(-0.001, 3.9]</td>\n",
       "      <td>436</td>\n",
       "      <td>314</td>\n",
       "      <td>122</td>\n",
       "      <td>0.189728</td>\n",
       "      <td>0.259023</td>\n",
       "      <td>-0.311326</td>\n",
       "      <td>0.021573</td>\n",
       "    </tr>\n",
       "    <tr>\n",
       "      <td>4</td>\n",
       "      <td>(6.5, 8.6]</td>\n",
       "      <td>412</td>\n",
       "      <td>298</td>\n",
       "      <td>114</td>\n",
       "      <td>0.180060</td>\n",
       "      <td>0.242038</td>\n",
       "      <td>-0.295803</td>\n",
       "      <td>0.018333</td>\n",
       "    </tr>\n",
       "    <tr>\n",
       "      <td>1</td>\n",
       "      <td>(8.6, 12.0]</td>\n",
       "      <td>418</td>\n",
       "      <td>349</td>\n",
       "      <td>69</td>\n",
       "      <td>0.210876</td>\n",
       "      <td>0.146497</td>\n",
       "      <td>0.364267</td>\n",
       "      <td>0.023451</td>\n",
       "    </tr>\n",
       "    <tr>\n",
       "      <td>2</td>\n",
       "      <td>(12.0, 50.7]</td>\n",
       "      <td>425</td>\n",
       "      <td>383</td>\n",
       "      <td>42</td>\n",
       "      <td>0.231420</td>\n",
       "      <td>0.089172</td>\n",
       "      <td>0.953667</td>\n",
       "      <td>0.135657</td>\n",
       "    </tr>\n",
       "  </tbody>\n",
       "</table>\n",
       "</div>"
      ],
      "text/plain": [
       "           Value  All  Good  Bad  Distr_Good  Distr_Bad       WoE        IV\n",
       "3     (3.9, 6.5]  435   311  124    0.187915   0.263270 -0.337187  0.025408\n",
       "0  (-0.001, 3.9]  436   314  122    0.189728   0.259023 -0.311326  0.021573\n",
       "4     (6.5, 8.6]  412   298  114    0.180060   0.242038 -0.295803  0.018333\n",
       "1    (8.6, 12.0]  418   349   69    0.210876   0.146497  0.364267  0.023451\n",
       "2   (12.0, 50.7]  425   383   42    0.231420   0.089172  0.953667  0.135657"
      ]
     },
     "execution_count": 27,
     "metadata": {},
     "output_type": "execute_result"
    }
   ],
   "source": [
    "# izrada dataframea koji sadrži woe i iv vrijednosti za varijablu MLTV\n",
    "df_MLTV, iv = calculate_woe_iv(df1, 'MLTV', 'NSP')\n",
    "df_MLTV"
   ]
  },
  {
   "cell_type": "code",
   "execution_count": 28,
   "metadata": {},
   "outputs": [],
   "source": [
    "# funkcija za grupiranje\n",
    "def coarse_classer(df, indexloc_1, indexloc_2):\n",
    "    mean_val = pd.DataFrame(np.mean(pd.DataFrame([df.iloc[indexloc_1], df.iloc[indexloc_2]]))).T\n",
    "    original = df.drop([indexloc_1, indexloc_2])\n",
    "    \n",
    "    coarsed_df = pd.concat([original, mean_val])\n",
    "    coarsed_df = coarsed_df.sort_values(by='WoE', ascending=False).reset_index(drop=True)\n",
    "    \n",
    "    return coarsed_df"
   ]
  },
  {
   "cell_type": "code",
   "execution_count": 29,
   "metadata": {},
   "outputs": [
    {
     "name": "stderr",
     "output_type": "stream",
     "text": [
      "C:\\Users\\marin\\AppData\\Local\\Continuum\\anaconda3\\lib\\site-packages\\ipykernel_launcher.py:6: FutureWarning: Sorting because non-concatenation axis is not aligned. A future version\n",
      "of pandas will change to not sort by default.\n",
      "\n",
      "To accept the future behavior, pass 'sort=False'.\n",
      "\n",
      "To retain the current behavior and silence the warning, pass 'sort=True'.\n",
      "\n",
      "  \n"
     ]
    },
    {
     "data": {
      "text/html": [
       "<div>\n",
       "<style scoped>\n",
       "    .dataframe tbody tr th:only-of-type {\n",
       "        vertical-align: middle;\n",
       "    }\n",
       "\n",
       "    .dataframe tbody tr th {\n",
       "        vertical-align: top;\n",
       "    }\n",
       "\n",
       "    .dataframe thead th {\n",
       "        text-align: right;\n",
       "    }\n",
       "</style>\n",
       "<table border=\"1\" class=\"dataframe\">\n",
       "  <thead>\n",
       "    <tr style=\"text-align: right;\">\n",
       "      <th></th>\n",
       "      <th>All</th>\n",
       "      <th>Bad</th>\n",
       "      <th>Distr_Bad</th>\n",
       "      <th>Distr_Good</th>\n",
       "      <th>Good</th>\n",
       "      <th>IV</th>\n",
       "      <th>Value</th>\n",
       "      <th>WoE</th>\n",
       "    </tr>\n",
       "  </thead>\n",
       "  <tbody>\n",
       "    <tr>\n",
       "      <td>0</td>\n",
       "      <td>425.0</td>\n",
       "      <td>42.0</td>\n",
       "      <td>0.089172</td>\n",
       "      <td>0.231420</td>\n",
       "      <td>383.0</td>\n",
       "      <td>0.135657</td>\n",
       "      <td>(12.0, 50.7]</td>\n",
       "      <td>0.953667</td>\n",
       "    </tr>\n",
       "    <tr>\n",
       "      <td>1</td>\n",
       "      <td>418.0</td>\n",
       "      <td>69.0</td>\n",
       "      <td>0.146497</td>\n",
       "      <td>0.210876</td>\n",
       "      <td>349.0</td>\n",
       "      <td>0.023451</td>\n",
       "      <td>(8.6, 12.0]</td>\n",
       "      <td>0.364267</td>\n",
       "    </tr>\n",
       "    <tr>\n",
       "      <td>2</td>\n",
       "      <td>426.5</td>\n",
       "      <td>96.5</td>\n",
       "      <td>0.204883</td>\n",
       "      <td>0.199396</td>\n",
       "      <td>330.0</td>\n",
       "      <td>0.024430</td>\n",
       "      <td>NaN</td>\n",
       "      <td>0.013540</td>\n",
       "    </tr>\n",
       "    <tr>\n",
       "      <td>3</td>\n",
       "      <td>412.0</td>\n",
       "      <td>114.0</td>\n",
       "      <td>0.242038</td>\n",
       "      <td>0.180060</td>\n",
       "      <td>298.0</td>\n",
       "      <td>0.018333</td>\n",
       "      <td>(6.5, 8.6]</td>\n",
       "      <td>-0.295803</td>\n",
       "    </tr>\n",
       "  </tbody>\n",
       "</table>\n",
       "</div>"
      ],
      "text/plain": [
       "     All    Bad  Distr_Bad  Distr_Good   Good        IV         Value  \\\n",
       "0  425.0   42.0   0.089172    0.231420  383.0  0.135657  (12.0, 50.7]   \n",
       "1  418.0   69.0   0.146497    0.210876  349.0  0.023451   (8.6, 12.0]   \n",
       "2  426.5   96.5   0.204883    0.199396  330.0  0.024430           NaN   \n",
       "3  412.0  114.0   0.242038    0.180060  298.0  0.018333    (6.5, 8.6]   \n",
       "\n",
       "        WoE  \n",
       "0  0.953667  \n",
       "1  0.364267  \n",
       "2  0.013540  \n",
       "3 -0.295803  "
      ]
     },
     "execution_count": 29,
     "metadata": {},
     "output_type": "execute_result"
    }
   ],
   "source": [
    "# grupiranje kategorija varijable MLTV\n",
    "df_MLTV = coarse_classer(df_MLTV, 3, 0)\n",
    "df_MLTV"
   ]
  },
  {
   "cell_type": "markdown",
   "metadata": {},
   "source": [
    "Iz podataka iznad možemo zaključiti da je tipičan rizični profil (u ovom slučaju bolest ili sumnjivo stanje) slijedeći:\n",
    "\n",
    "- ima vrijednost varijable b između 19.0 i 357.0\n",
    "\n",
    "- ima vrijednost varijable e između 286.999 i 910.0\n",
    "\n",
    "- ima vrijednost varijable LBE između 142.0 i 160.0\n",
    "\n",
    "- ima vrijednost varijable LB između 142.0 i 160.0\n",
    "\n",
    "- ima vrijednost varijable UC između -0.001 i 1.0\n",
    "\n",
    "- ima vrijednost varijable MLTV između 3.9 i 6.5\n",
    "\n",
    "- ima vrijednost varijable Width između 2.999 i 32.0\n",
    "\n",
    "- ima vrijednost varijable Max između 149.0 i 158.0\n",
    "\n",
    "- ima vrijednost varijable Nmax između -0.001 i 1.0\n",
    "\n",
    "- ima vrijednost varijable Mode između 150.0 i 187.0\n",
    "\n",
    "- ima vrijednost varijable Mean između 147.0 i 182.0\n",
    "\n",
    "- ima vrijednost varijable Median između 150.0 i 186.0\n",
    "\n",
    "- ima vrijednost varijable B jednaku 0\n",
    "\n",
    "- ima vrijednost varijable SUSP jednaku 1"
   ]
  },
  {
   "cell_type": "markdown",
   "metadata": {},
   "source": [
    "Prema IV score-u varijable: b, e, LBE, LB, UC, MLTV, Width, Max, Nmax, Mode, Mean, Median, B i SUSP \"jaki\" prediktori i redom znače:\n",
    "\n",
    "- b (start instant)\n",
    "- e (end instant)\n",
    "- LBE (baseline value (medical expert))\n",
    "- LB (baseline value (SisPorto))\n",
    "- UC (uterine contractions (SisPorto))\n",
    "- MLTV (mean value of long term variability  (SisPorto))\n",
    "- Width (histogram width)\n",
    "- Max (high freq. of the histogram)\n",
    "- Nmax (number of histogram peaks)\n",
    "- Mode (histogram mode)\n",
    "- Mean (histogram mean)\n",
    "- Median (histogram median)\n",
    "- B (REM sleep)\n",
    "- SUSP (suspect pattern)"
   ]
  },
  {
   "cell_type": "markdown",
   "metadata": {},
   "source": [
    "Smatram da bi npr. varijabla SUSP trebala biti bolji prediktor jer predstavlja sumnjivi uzorak, ali nisam siguran da li sam dobro protumačio značenje varijabli.\n",
    "\n",
    "Također, varijabla FS je opisana kao \"flat-sinusoidal pattern (pathological state)\" što bi značilo da varijabla NSP treba imati vrijednost 3 (pathologic) ako je FS = 1. Međutim, u analizi iznad vidimo da je IV za FS minimalan. Do toga je vjerojatno došlo zbog toga što sam za potrebe računanja WoE i IV redizajnirao ciljnu varijablu NSP da bude binarna te sam klasificirao \"Normal (1)\" stanje kao 0, a \"Suspect (2)\" i \"Pathologic (3)\" kao 1. \"Suspect\" i \"Noramal\" sam mogao grupirati kao 0, a \"Pathologic\" kao 1.\n",
    "\n",
    "Set podataka ne dolazi s detaljnim opisom pa bi bilo dobro konzultirati se s medicinskim stručnjakom oko rezultata ove analize"
   ]
  }
 ],
 "metadata": {
  "kernelspec": {
   "display_name": "Python 3",
   "language": "python",
   "name": "python3"
  },
  "language_info": {
   "codemirror_mode": {
    "name": "ipython",
    "version": 3
   },
   "file_extension": ".py",
   "mimetype": "text/x-python",
   "name": "python",
   "nbconvert_exporter": "python",
   "pygments_lexer": "ipython3",
   "version": "3.7.4"
  }
 },
 "nbformat": 4,
 "nbformat_minor": 2
}
